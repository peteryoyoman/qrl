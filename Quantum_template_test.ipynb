{
 "cells": [
  {
   "cell_type": "code",
   "execution_count": 101,
   "id": "e4be0d0b-5ab5-4b56-a69d-a92627bd5875",
   "metadata": {},
   "outputs": [],
   "source": [
    "import pennylane as qml\n",
    "from pennylane.templates import BasicEntanglerLayers\n",
    "from pennylane import numpy as np"
   ]
  },
  {
   "cell_type": "code",
   "execution_count": 50,
   "id": "b1db7204-3f29-4ab2-b4f1-6fd8d118e415",
   "metadata": {},
   "outputs": [],
   "source": [
    "n_wires = 3\n",
    "dev = qml.device('default.qubit', wires=n_wires)\n",
    "\n",
    "@qml.qnode(dev)\n",
    "def circuit(weights):\n",
    "    BasicEntanglerLayers(weights=weights, wires=[0,1,2]) #原本是wires=range(3)\n",
    "    return qml.expval(qml.PauliZ(0))\n",
    "\n",
    "shape = BasicEntanglerLayers.shape(n_layers=2, n_wires=n_wires)\n",
    "np.random.seed(42)  # to make the result reproducable\n",
    "weights = np.random.random(size=shape)"
   ]
  },
  {
   "cell_type": "code",
   "execution_count": 51,
   "id": "ef2c2f6e-6f14-4507-b7ff-cf098348d257",
   "metadata": {},
   "outputs": [
    {
     "data": {
      "text/plain": [
       "tensor(0.72588592, requires_grad=True)"
      ]
     },
     "execution_count": 51,
     "metadata": {},
     "output_type": "execute_result"
    }
   ],
   "source": [
    "circuit(weights)"
   ]
  },
  {
   "cell_type": "code",
   "execution_count": 56,
   "id": "8c6879bb-c7b1-4740-84be-3d707b41f23a",
   "metadata": {},
   "outputs": [
    {
     "ename": "AttributeError",
     "evalue": "'tensor' object has no attribute 'construct'",
     "output_type": "error",
     "traceback": [
      "\u001b[1;31m---------------------------------------------------------------------------\u001b[0m",
      "\u001b[1;31mAttributeError\u001b[0m                            Traceback (most recent call last)",
      "\u001b[1;32m<ipython-input-56-d37b783cb50f>\u001b[0m in \u001b[0;36m<module>\u001b[1;34m\u001b[0m\n\u001b[0;32m      1\u001b[0m \u001b[0mdrawer\u001b[0m \u001b[1;33m=\u001b[0m \u001b[0mqml\u001b[0m\u001b[1;33m.\u001b[0m\u001b[0mdraw\u001b[0m\u001b[1;33m(\u001b[0m\u001b[0mcircuit\u001b[0m\u001b[1;33m(\u001b[0m\u001b[0mweights\u001b[0m\u001b[1;33m)\u001b[0m\u001b[1;33m)\u001b[0m\u001b[1;33m\u001b[0m\u001b[1;33m\u001b[0m\u001b[0m\n\u001b[1;32m----> 2\u001b[1;33m \u001b[0mprint\u001b[0m\u001b[1;33m(\u001b[0m\u001b[0mdrawer\u001b[0m\u001b[1;33m(\u001b[0m\u001b[0mweights\u001b[0m\u001b[1;33m)\u001b[0m\u001b[1;33m)\u001b[0m\u001b[1;33m\u001b[0m\u001b[1;33m\u001b[0m\u001b[0m\n\u001b[0m",
      "\u001b[1;32mF:\\Anaconda_install\\lib\\site-packages\\pennylane\\transforms\\draw.py\u001b[0m in \u001b[0;36mwrapper\u001b[1;34m(*args, **kwargs)\u001b[0m\n\u001b[0;32m     89\u001b[0m     \u001b[1;33m@\u001b[0m\u001b[0mwraps\u001b[0m\u001b[1;33m(\u001b[0m\u001b[0mqnode\u001b[0m\u001b[1;33m)\u001b[0m\u001b[1;33m\u001b[0m\u001b[1;33m\u001b[0m\u001b[0m\n\u001b[0;32m     90\u001b[0m     \u001b[1;32mdef\u001b[0m \u001b[0mwrapper\u001b[0m\u001b[1;33m(\u001b[0m\u001b[1;33m*\u001b[0m\u001b[0margs\u001b[0m\u001b[1;33m,\u001b[0m \u001b[1;33m**\u001b[0m\u001b[0mkwargs\u001b[0m\u001b[1;33m)\u001b[0m\u001b[1;33m:\u001b[0m\u001b[1;33m\u001b[0m\u001b[1;33m\u001b[0m\u001b[0m\n\u001b[1;32m---> 91\u001b[1;33m         \u001b[0mqnode\u001b[0m\u001b[1;33m.\u001b[0m\u001b[0mconstruct\u001b[0m\u001b[1;33m(\u001b[0m\u001b[0margs\u001b[0m\u001b[1;33m,\u001b[0m \u001b[0mkwargs\u001b[0m\u001b[1;33m)\u001b[0m\u001b[1;33m\u001b[0m\u001b[1;33m\u001b[0m\u001b[0m\n\u001b[0m\u001b[0;32m     92\u001b[0m         \u001b[0m_wire_order\u001b[0m \u001b[1;33m=\u001b[0m \u001b[0mwire_order\u001b[0m \u001b[1;32mor\u001b[0m \u001b[0mqnode\u001b[0m\u001b[1;33m.\u001b[0m\u001b[0mdevice\u001b[0m\u001b[1;33m.\u001b[0m\u001b[0mwires\u001b[0m\u001b[1;33m\u001b[0m\u001b[1;33m\u001b[0m\u001b[0m\n\u001b[0;32m     93\u001b[0m         \u001b[0m_wire_order\u001b[0m \u001b[1;33m=\u001b[0m \u001b[0mqml\u001b[0m\u001b[1;33m.\u001b[0m\u001b[0mwires\u001b[0m\u001b[1;33m.\u001b[0m\u001b[0mWires\u001b[0m\u001b[1;33m(\u001b[0m\u001b[0m_wire_order\u001b[0m\u001b[1;33m)\u001b[0m\u001b[1;33m\u001b[0m\u001b[1;33m\u001b[0m\u001b[0m\n",
      "\u001b[1;31mAttributeError\u001b[0m: 'tensor' object has no attribute 'construct'"
     ]
    }
   ],
   "source": [
    "drawer = qml.draw(circuit(weights))\n",
    "print(drawer(weights))"
   ]
  },
  {
   "cell_type": "code",
   "execution_count": 19,
   "id": "753ffec6-b698-4f7b-a0a0-bb648cdd64ff",
   "metadata": {},
   "outputs": [],
   "source": [
    "A = range(3))"
   ]
  },
  {
   "cell_type": "code",
   "execution_count": 7,
   "id": "703b6bd0-9632-41ef-b7f8-1704e076872a",
   "metadata": {},
   "outputs": [
    {
     "name": "stdout",
     "output_type": "stream",
     "text": [
      "range(0, 3)\n"
     ]
    }
   ],
   "source": [
    "print(A)"
   ]
  },
  {
   "cell_type": "code",
   "execution_count": 148,
   "id": "f6ae5ded-bb80-4509-8426-bf2ae087ea71",
   "metadata": {},
   "outputs": [
    {
     "name": "stdout",
     "output_type": "stream",
     "text": [
      "[0.30094386 0.55761141]\n",
      "0.4331721263553286\n",
      "[0.30094386 0.55761141 0.43317213 0.61006115]\n",
      "0.8585552748405385\n"
     ]
    }
   ],
   "source": [
    "dev2 = qml.device('default.qubit', wires=6)\n",
    "U = np.array([[0, 0, 0, 1],\n",
    "              [1, 0, 0, 0],\n",
    "              [0, 1, 0, 0],\n",
    "              [0, 0, 1, 0]])\n",
    "@qml.qnode(dev2)\n",
    "def circuit(weights):\n",
    "    qml.ControlledQubitUnitary(U, control_wires = [0, 1], wires = [2, 3])\n",
    "    BasicEntanglerLayers(weights=weights, wires=[0,1,2,3])\n",
    "    return [qml.expval(qml.PauliZ(i)) for i in range(4)]\n",
    "def cost(params):\n",
    "    A = circuit(params)[0:2]\n",
    "    B = circuit(params)[3]\n",
    "    C = circuit(params)[2]\n",
    "    result = np.append(np.append(A,B),C)\n",
    "    print(A)\n",
    "    print(B)\n",
    "    print(result)\n",
    "    return np.sum(A)\n",
    "shape = BasicEntanglerLayers.shape(n_layers=2, n_wires=4)\n",
    "weights = np.random.random(size=shape)\n",
    "print(cost(weights))"
   ]
  },
  {
   "cell_type": "code",
   "execution_count": 125,
   "id": "b57a5b40-c220-4bd9-97e0-acd3f8a79aca",
   "metadata": {},
   "outputs": [
    {
     "name": "stdout",
     "output_type": "stream",
     "text": [
      "Autograd ArrayBox with value [0.38171519 0.32927399]\n",
      "Autograd ArrayBox with value [0.3784911  0.32584322]\n",
      "Autograd ArrayBox with value [0.37521972 0.3224072 ]\n",
      "Autograd ArrayBox with value [0.37190025 0.3189657 ]\n",
      "Autograd ArrayBox with value [0.3685319 0.3155185]\n",
      "[0.36511392 0.31206541]\n",
      "Cost after step     5:  0.6771793\n",
      "Autograd ArrayBox with value [0.36511392 0.31206541]\n",
      "Autograd ArrayBox with value [0.36164555 0.30860624]\n",
      "Autograd ArrayBox with value [0.35812608 0.30514081]\n",
      "Autograd ArrayBox with value [0.3545548  0.30166895]\n",
      "Autograd ArrayBox with value [0.35093104 0.29819052]\n",
      "[0.34725415 0.29470535]\n",
      "Cost after step    10:  0.6419595\n",
      "Autograd ArrayBox with value [0.34725415 0.29470535]\n",
      "Autograd ArrayBox with value [0.34352349 0.29121334]\n",
      "Autograd ArrayBox with value [0.33973849 0.28771436]\n",
      "Autograd ArrayBox with value [0.33589855 0.28420831]\n",
      "Autograd ArrayBox with value [0.33200314 0.2806951 ]\n",
      "[0.32805176 0.27717465]\n",
      "Cost after step    15:  0.6052264\n",
      "Autograd ArrayBox with value [0.32805176 0.27717465]\n",
      "Autograd ArrayBox with value [0.32404392 0.27364689]\n",
      "Autograd ArrayBox with value [0.31997918 0.27011178]\n",
      "Autograd ArrayBox with value [0.31585712 0.26656927]\n",
      "Autograd ArrayBox with value [0.31167738 0.26301934]\n",
      "[0.30743961 0.25946198]\n",
      "Cost after step    20:  0.5669016\n",
      "Autograd ArrayBox with value [0.30743961 0.25946198]\n",
      "Autograd ArrayBox with value [0.30314351 0.25589718]\n",
      "Autograd ArrayBox with value [0.29878883 0.25232496]\n",
      "Autograd ArrayBox with value [0.29437533 0.24874534]\n",
      "Autograd ArrayBox with value [0.28990285 0.24515837]\n",
      "[0.28537124 0.24156409]\n",
      "Cost after step    25:  0.5269353\n",
      "Autograd ArrayBox with value [0.28537124 0.24156409]\n",
      "Autograd ArrayBox with value [0.28078041 0.23796257]\n",
      "Autograd ArrayBox with value [0.27613031 0.23435389]\n",
      "Autograd ArrayBox with value [0.27142094 0.23073814]\n",
      "Autograd ArrayBox with value [0.26665235 0.22711541]\n",
      "[0.26182462 0.22348582]\n",
      "Cost after step    30:  0.4853104\n",
      "Autograd ArrayBox with value [0.26182462 0.22348582]\n",
      "Autograd ArrayBox with value [0.25693791 0.21984949]\n",
      "Autograd ArrayBox with value [0.25199239 0.21620657]\n",
      "Autograd ArrayBox with value [0.24698832 0.21255719]\n",
      "Autograd ArrayBox with value [0.24192598 0.20890152]\n",
      "[0.23680573 0.20523973]\n",
      "Cost after step    35:  0.4420455\n",
      "Autograd ArrayBox with value [0.23680573 0.20523973]\n",
      "Autograd ArrayBox with value [0.23162796 0.20157199]\n",
      "Autograd ArrayBox with value [0.22639314 0.19789849]\n",
      "Autograd ArrayBox with value [0.22110175 0.19421945]\n",
      "Autograd ArrayBox with value [0.21575438 0.19053505]\n",
      "[0.21035163 0.18684553]\n",
      "Cost after step    40:  0.3971972\n",
      "Autograd ArrayBox with value [0.21035163 0.18684553]\n",
      "Autograd ArrayBox with value [0.20489418 0.1831511 ]\n",
      "Autograd ArrayBox with value [0.19938276 0.17945201]\n",
      "Autograd ArrayBox with value [0.19381816 0.1757485 ]\n",
      "Autograd ArrayBox with value [0.18820121 0.17204081]\n",
      "[0.18253282 0.1683292 ]\n",
      "Cost after step    45:  0.3508620\n",
      "Autograd ArrayBox with value [0.18253282 0.1683292 ]\n",
      "Autograd ArrayBox with value [0.17681394 0.16461394]\n",
      "Autograd ArrayBox with value [0.17104558 0.1608953 ]\n",
      "Autograd ArrayBox with value [0.1652288  0.15717355]\n",
      "Autograd ArrayBox with value [0.15936472 0.15344897]\n",
      "[0.15345452 0.14972186]\n",
      "Cost after step    50:  0.3031764\n",
      "Autograd ArrayBox with value [0.15345452 0.14972186]\n",
      "Autograd ArrayBox with value [0.14749943 0.14599249]\n",
      "Autograd ArrayBox with value [0.14150073 0.14226116]\n",
      "Autograd ArrayBox with value [0.13545976 0.13852817]\n",
      "Autograd ArrayBox with value [0.1293779  0.13479382]\n",
      "[0.12325658 0.13105841]\n",
      "Cost after step    55:  0.2543150\n",
      "Autograd ArrayBox with value [0.12325658 0.13105841]\n",
      "Autograd ArrayBox with value [0.1170973  0.12732225]\n",
      "Autograd ArrayBox with value [0.11090158 0.12358564]\n",
      "Autograd ArrayBox with value [0.10467102 0.11984888]\n",
      "Autograd ArrayBox with value [0.09840723 0.11611228]\n",
      "[0.09211188 0.11237615]\n",
      "Cost after step    60:  0.2044880\n",
      "Autograd ArrayBox with value [0.09211188 0.11237615]\n",
      "Autograd ArrayBox with value [0.08578669 0.1086408 ]\n",
      "Autograd ArrayBox with value [0.07943341 0.10490653]\n",
      "Autograd ArrayBox with value [0.07305382 0.10117364]\n",
      "Autograd ArrayBox with value [0.06664976 0.09744243]\n",
      "[0.06022309 0.0937132 ]\n",
      "Cost after step    65:  0.1539363\n",
      "Autograd ArrayBox with value [0.06022309 0.0937132 ]\n",
      "Autograd ArrayBox with value [0.05377571 0.08998626]\n",
      "Autograd ArrayBox with value [0.04730952 0.08626188]\n",
      "Autograd ArrayBox with value [0.0408265  0.08254037]\n",
      "Autograd ArrayBox with value [0.03432861 0.078822  ]\n",
      "[0.02781785 0.07510706]\n",
      "Cost after step    70:  0.1029249\n",
      "Autograd ArrayBox with value [0.02781785 0.07510706]\n",
      "Autograd ArrayBox with value [0.02129626 0.07139582]\n",
      "Autograd ArrayBox with value [0.01476586 0.06768856]\n",
      "Autograd ArrayBox with value [0.00822871 0.06398554]\n",
      "Autograd ArrayBox with value [0.00168689 0.06028702]\n",
      "[-0.00485753  0.05659325]\n",
      "Cost after step    75:  0.0517357\n",
      "Autograd ArrayBox with value [-0.00485753  0.05659325]\n",
      "Autograd ArrayBox with value [-0.01140246  0.05290448]\n",
      "Autograd ArrayBox with value [-0.01794581  0.04922096]\n",
      "Autograd ArrayBox with value [-0.02448549  0.04554291]\n",
      "Autograd ArrayBox with value [-0.03101939  0.04187057]\n",
      "[-0.03754543  0.03820414]\n",
      "Cost after step    80:  0.0006587\n",
      "Autograd ArrayBox with value [-0.03754543  0.03820414]\n",
      "Autograd ArrayBox with value [-0.04406152  0.03454386]\n",
      "Autograd ArrayBox with value [-0.05056558  0.03088991]\n",
      "Autograd ArrayBox with value [-0.05705554  0.02724251]\n",
      "Autograd ArrayBox with value [-0.06352935  0.02360183]\n",
      "[-0.06998496  0.01996805]\n",
      "Cost after step    85: -0.0500169\n",
      "Autograd ArrayBox with value [-0.06998496  0.01996805]\n",
      "Autograd ArrayBox with value [-0.07642036  0.01634136]\n",
      "Autograd ArrayBox with value [-0.08283354  0.01272191]\n",
      "Autograd ArrayBox with value [-0.08922254  0.00910986]\n",
      "Autograd ArrayBox with value [-0.09558538  0.00550537]\n",
      "[-0.10192016  0.00190856]\n",
      "Cost after step    90: -0.1000116\n",
      "Autograd ArrayBox with value [-0.10192016  0.00190856]\n",
      "Autograd ArrayBox with value [-0.10822498 -0.00168042]\n",
      "Autograd ArrayBox with value [-0.11449798 -0.00526146]\n",
      "Autograd ArrayBox with value [-0.12073732 -0.00883444]\n",
      "Autograd ArrayBox with value [-0.12694123 -0.01239925]\n",
      "[-0.13310793 -0.0159558 ]\n",
      "Cost after step    95: -0.1490637\n",
      "Autograd ArrayBox with value [-0.13310793 -0.0159558 ]\n",
      "Autograd ArrayBox with value [-0.13923573 -0.01950398]\n",
      "Autograd ArrayBox with value [-0.14532295 -0.02304373]\n",
      "Autograd ArrayBox with value [-0.15136795 -0.02657497]\n",
      "Autograd ArrayBox with value [-0.15736916 -0.03009762]\n",
      "[-0.16332504 -0.03361164]\n",
      "Cost after step   100: -0.1969367\n",
      "Optimized rotation angles: [[0.93092522 0.87909356 0.25630271 0.66262126]\n",
      " [0.81949196 0.55601743 0.52961201 0.23884438]]\n"
     ]
    }
   ],
   "source": [
    "opt = qml.GradientDescentOptimizer(stepsize=0.01)\n",
    "steps = 100\n",
    "for i in range(steps):\n",
    "    #更新U3 GATE的參數\n",
    "    weights = opt.step(cost, weights)\n",
    "\n",
    "    if (i + 1) % 5 == 0:\n",
    "        print(\"Cost after step {:5d}: {: .7f}\".format(i + 1, cost(weights)))\n",
    "\n",
    "print(\"Optimized rotation angles: {}\".format(params))"
   ]
  },
  {
   "cell_type": "code",
   "execution_count": 117,
   "id": "5fbe6e58-4962-4955-8320-a7c4339f00a5",
   "metadata": {},
   "outputs": [
    {
     "name": "stdout",
     "output_type": "stream",
     "text": [
      " 0: ──╭C───RX(0.238)──╭C──────────────────────────────╭X──RX(0.634)──╭C──────────╭X──┤ ⟨Z⟩ \n",
      " 1: ──├C───RX(0.728)──╰X──╭C───RX(0.536)──────────────│──────────────╰X──╭C──────│───┤ ⟨Z⟩ \n",
      " 2: ──├U0──RX(0.368)──────╰X──╭C──────────RX(0.0903)──│──────────────────╰X──╭C──│───┤     \n",
      " 3: ──╰U0──RX(0.632)──────────╰X──────────────────────╰C──RX(0.835)──────────╰X──╰C──┤     \n",
      "U0 =\n",
      "[[0 0 0 1]\n",
      " [1 0 0 0]\n",
      " [0 1 0 0]\n",
      " [0 0 1 0]]\n",
      "\n"
     ]
    }
   ],
   "source": [
    "drawer = qml.draw(circuit)\n",
    "print(drawer(weights))"
   ]
  },
  {
   "cell_type": "code",
   "execution_count": 79,
   "id": "ba5eea3a-f920-4ba3-b4f8-9fe462b0b119",
   "metadata": {},
   "outputs": [],
   "source": [
    "dev = qml.device('default.qubit', wires=2)\n",
    "\n",
    "@qml.qnode(dev)\n",
    "def circuit(a, w):\n",
    "    qml.Hadamard(0)\n",
    "    qml.CRX(a, wires=[0, 1])\n",
    "    qml.Rot(*w, wires=[1])\n",
    "    qml.CRX(-a, wires=[0, 1])\n",
    "    return qml.expval(qml.PauliZ(0) @ qml.PauliZ(1))"
   ]
  },
  {
   "cell_type": "code",
   "execution_count": 80,
   "id": "2ef734e7-1837-4bfe-bc03-cebc26ecf7a6",
   "metadata": {},
   "outputs": [],
   "source": [
    "drawer = qml.draw(circuit)"
   ]
  },
  {
   "cell_type": "code",
   "execution_count": 81,
   "id": "aedbf1a1-5c57-4cbb-aede-8d4f09d3a8c2",
   "metadata": {},
   "outputs": [
    {
     "name": "stdout",
     "output_type": "stream",
     "text": [
      " 0: ──H──╭C────────────────────────────╭C─────────╭┤ ⟨Z ⊗ Z⟩ \n",
      " 1: ─────╰RX(2.3)──Rot(1.2, 3.2, 0.7)──╰RX(-2.3)──╰┤ ⟨Z ⊗ Z⟩ \n",
      "\n"
     ]
    }
   ],
   "source": [
    "print(drawer(a=2.3, w=[1.2, 3.2, 0.7]))"
   ]
  },
  {
   "cell_type": "code",
   "execution_count": 149,
   "id": "cc34afbd-677d-4a83-8063-449e457c58bf",
   "metadata": {},
   "outputs": [],
   "source": [
    "A = np.zeros((2,5))"
   ]
  },
  {
   "cell_type": "code",
   "execution_count": 155,
   "id": "dd240c28-b45a-4b78-a168-9998e1344cf8",
   "metadata": {},
   "outputs": [
    {
     "data": {
      "text/plain": [
       "tensor([[0., 0., 0., 0., 0.],\n",
       "        [0., 0., 0., 0., 0.]], requires_grad=True)"
      ]
     },
     "execution_count": 155,
     "metadata": {},
     "output_type": "execute_result"
    }
   ],
   "source": [
    "A"
   ]
  }
 ],
 "metadata": {
  "kernelspec": {
   "display_name": "Python 3",
   "language": "python",
   "name": "python3"
  },
  "language_info": {
   "codemirror_mode": {
    "name": "ipython",
    "version": 3
   },
   "file_extension": ".py",
   "mimetype": "text/x-python",
   "name": "python",
   "nbconvert_exporter": "python",
   "pygments_lexer": "ipython3",
   "version": "3.8.8"
  }
 },
 "nbformat": 4,
 "nbformat_minor": 5
}
