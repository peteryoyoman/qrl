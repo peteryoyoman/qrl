{
 "cells": [
  {
   "cell_type": "code",
   "execution_count": 2,
   "id": "ef52ee49-5776-475c-927d-d75e81c0a059",
   "metadata": {},
   "outputs": [],
   "source": [
    "import pennylane as qml\n",
    "from pennylane import numpy as np"
   ]
  },
  {
   "cell_type": "code",
   "execution_count": 3,
   "id": "df5eaa04-71ae-46c1-9ccd-d6e2005255d9",
   "metadata": {},
   "outputs": [],
   "source": [
    "pauliz = np.array([[1,0],\n",
    "                   [0,-1]])"
   ]
  },
  {
   "cell_type": "code",
   "execution_count": 21,
   "id": "4155d0e8-515e-4d4d-8696-a2bdff45edb4",
   "metadata": {},
   "outputs": [],
   "source": [
    "def transform_function(circuit_output):\n",
    "    sortLoc = np.argsort(-1*circuit_output)\n",
    "    sortLoc = np.expand_dims(sortLoc, axis = 0)\n",
    "    sortVal = np.abs(np.sort(-1*circuit_output))\n",
    "    sortVal = np.expand_dims(sortVal, axis = 0)\n",
    "    Loc_Val_matrix = np.concatenate((sortLoc,sortVal),axis=0)\n",
    "    print(f'The Quantum State Probability for greatest to least:\\n')\n",
    "    for i in range(np.shape(Loc_Val_matrix)[1]):\n",
    "        if len(bin(int(Loc_Val_matrix[0,i].item()))[2:]) < 3:\n",
    "            num_of_zero = 3 - len(bin(int(Loc_Val_matrix[0,i].item()))[2:])\n",
    "            string = bin(int(Loc_Val_matrix[0,i].item()))[2:]\n",
    "            for j in range(num_of_zero):\n",
    "                string = '0' + string \n",
    "            print(f'probability of {string} is {Loc_Val_matrix[1,i].item()}')\n",
    "        else:\n",
    "            print(f'probability of {bin(int(Loc_Val_matrix[0,i].item()))[2:]} is {Loc_Val_matrix[1,i].item()}')"
   ]
  },
  {
   "cell_type": "code",
   "execution_count": 34,
   "id": "388cb919-9cd6-472d-8ce4-107ae8bebd3f",
   "metadata": {},
   "outputs": [],
   "source": [
    "dev = qml.device('default.qubit', wires = 3)\n",
    "repeat_times = 5\n",
    "@qml.qnode(dev)\n",
    "def circuit():\n",
    "    #initialize\n",
    "    for i in range(3):\n",
    "        qml.Hadamard(i)\n",
    "    for k in range(repeat_times):\n",
    "        #oracle\n",
    "        qml.CZ(wires = [2,0])\n",
    "        qml.CZ(wires = [1,0])\n",
    "        #amplification\n",
    "        for i in range(3):\n",
    "            qml.Hadamard(i)\n",
    "            qml.PauliX(i)\n",
    "        qml.ControlledQubitUnitary(pauliz, control_wires = [1,2], wires = [0], control_values='11')\n",
    "        for i in range(3):\n",
    "            qml.PauliX(i)\n",
    "            qml.Hadamard(i)\n",
    "    return qml.probs(wires=[0,1,2])"
   ]
  },
  {
   "cell_type": "code",
   "execution_count": 35,
   "id": "f266ea4f-c345-4770-ba2a-9846325f0be4",
   "metadata": {},
   "outputs": [],
   "source": [
    "A = circuit()"
   ]
  },
  {
   "cell_type": "code",
   "execution_count": 36,
   "id": "4567e2a7-a920-4534-9c71-2138f0482cae",
   "metadata": {},
   "outputs": [
    {
     "name": "stdout",
     "output_type": "stream",
     "text": [
      "The Quantum State Probability for greatest to least:\n",
      "\n",
      "probability of 000 is 0.12499999999999935\n",
      "probability of 001 is 0.12499999999999935\n",
      "probability of 010 is 0.12499999999999935\n",
      "probability of 011 is 0.12499999999999935\n",
      "probability of 100 is 0.12499999999999935\n",
      "probability of 101 is 0.12499999999999935\n",
      "probability of 110 is 0.12499999999999935\n",
      "probability of 111 is 0.12499999999999935\n"
     ]
    }
   ],
   "source": [
    "transform_function(A)"
   ]
  },
  {
   "cell_type": "code",
   "execution_count": null,
   "id": "52d2c63c-1c6b-47e9-b38d-d53caa87b3aa",
   "metadata": {},
   "outputs": [],
   "source": []
  }
 ],
 "metadata": {
  "kernelspec": {
   "display_name": "Python 3",
   "language": "python",
   "name": "python3"
  },
  "language_info": {
   "codemirror_mode": {
    "name": "ipython",
    "version": 3
   },
   "file_extension": ".py",
   "mimetype": "text/x-python",
   "name": "python",
   "nbconvert_exporter": "python",
   "pygments_lexer": "ipython3",
   "version": "3.8.8"
  }
 },
 "nbformat": 4,
 "nbformat_minor": 5
}
