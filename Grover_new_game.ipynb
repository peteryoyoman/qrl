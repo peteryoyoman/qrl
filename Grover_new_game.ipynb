{
 "cells": [
  {
   "cell_type": "code",
   "execution_count": 1,
   "id": "433f8372-2338-43c8-a008-45c71595032b",
   "metadata": {},
   "outputs": [],
   "source": [
    "import pennylane as qml\n",
    "from pennylane import numpy as np"
   ]
  },
  {
   "cell_type": "code",
   "execution_count": 2,
   "id": "f2dcad42-3ba0-4f0e-bb72-a65ee599182e",
   "metadata": {},
   "outputs": [],
   "source": [
    "#控制上下走的unitary，有兩種\n",
    "Unitary_Matrix_1 = np.array([[0,0,0,1],\n",
    "                             [1,0,0,0],\n",
    "                             [0,1,0,0],\n",
    "                             [0,0,1,0]])\n",
    "\n",
    "Unitary_Matrix_2 = np.array([[0,1,0,0],\n",
    "                             [0,0,1,0],\n",
    "                             [0,0,0,1],\n",
    "                             [1,0,0,0]])\n",
    "\n",
    "\n",
    "Go_Down = Unitary_Matrix_1\n",
    "Go_Up = Unitary_Matrix_2\n",
    "Go_Down_Dagger = Unitary_Matrix_2\n",
    "Go_Up_Dagger = Unitary_Matrix_1"
   ]
  },
  {
   "cell_type": "code",
   "execution_count": 3,
   "id": "1df5b799-7f5c-44ce-845b-9f99bcbee284",
   "metadata": {},
   "outputs": [],
   "source": [
    "#PauliX的代表矩陣\n",
    "paulix = np.array([[0,1],\n",
    "                   [1,0]])\n",
    "pauliz = np.array([[1,0],\n",
    "                   [0,-1]])"
   ]
  },
  {
   "cell_type": "code",
   "execution_count": 40,
   "id": "3bce0538-f9bd-4d8b-a348-5787d73e39ee",
   "metadata": {},
   "outputs": [],
   "source": [
    "#開始創建quantum circuit\n",
    "dev = qml.device('default.qubit', wires = 23, shots = 10)\n",
    "\n",
    "@qml.qnode(dev)\n",
    "def circuit():\n",
    "    #使table為equally superposition的\n",
    "    for i in range(12):\n",
    "        qml.Hadamard(i)\n",
    "    \n",
    "    #在f(x)那個wire放置一個hadamard gate\n",
    "    qml.Hadamard(22)\n",
    "    #設定初始位置（設為10）\n",
    "    qml.PauliX(12)\n",
    "    \n",
    "    #將初始state的狀態copy到state 1\n",
    "    qml.CNOT(wires=[12,14])\n",
    "    qml.CNOT(wires=[13,15])\n",
    "    \n",
    "    #判斷在這個state 1要做哪一個action的control unitary(總共會有8個)    \n",
    "    #在｜00> state所要做的action\n",
    "    qml.ControlledQubitUnitary(Go_Down, control_wires = [0,12,13], wires = [14,15], control_values='000')\n",
    "    qml.ControlledQubitUnitary(Go_Up, control_wires = [0,12,13], wires = [14,15], control_values='100')   \n",
    "    #在｜01> state所要做的action\n",
    "    qml.ControlledQubitUnitary(Go_Down, control_wires = [1,12,13], wires = [14,15], control_values='001')\n",
    "    qml.ControlledQubitUnitary(Go_Up, control_wires = [1,12,13], wires = [14,15], control_values='101')   \n",
    "    #在｜10> state所要做的action\n",
    "    qml.ControlledQubitUnitary(Go_Down, control_wires = [2,12,13], wires = [14,15], control_values='010')\n",
    "    qml.ControlledQubitUnitary(Go_Up, control_wires = [2,12,13], wires = [14,15], control_values='110')    \n",
    "    #在｜11> state所要做的action\n",
    "    qml.ControlledQubitUnitary(Go_Down, control_wires = [3,12,13], wires = [14,15], control_values='011')\n",
    "    qml.ControlledQubitUnitary(Go_Up, control_wires = [3,12,13], wires = [14,15], control_values='111')\n",
    "    \n",
    "    #判斷state 1有無踩到洞\n",
    "    qml.ControlledQubitUnitary(paulix, control_wires = [14,15], wires = [16], control_values='11')\n",
    "    \n",
    "    #將state 1 copy到state 2\n",
    "    qml.CNOT(wires=[14,17])\n",
    "    qml.CNOT(wires=[15,18])\n",
    "    \n",
    "    #判斷在這個state 2要做哪一個action的control unitary(總共會有8個)\n",
    "    #在｜00> state所要做的action\n",
    "    qml.ControlledQubitUnitary(Go_Down, control_wires = [4,14,15,16], wires = [17,18], control_values='0000')\n",
    "    qml.ControlledQubitUnitary(Go_Up, control_wires = [4,14,15,16], wires = [17,18], control_values='1000')   \n",
    "    #在｜01> state所要做的action\n",
    "    qml.ControlledQubitUnitary(Go_Down, control_wires = [5,14,15,16], wires = [17,18], control_values='0010')\n",
    "    qml.ControlledQubitUnitary(Go_Up, control_wires = [5,14,15,16], wires = [17,18], control_values='1010')   \n",
    "    #在｜10> state所要做的action\n",
    "    qml.ControlledQubitUnitary(Go_Down, control_wires = [6,14,15,16], wires = [17,18], control_values='0100')\n",
    "    qml.ControlledQubitUnitary(Go_Up, control_wires = [6,14,15,16], wires = [17,18], control_values='1100')    \n",
    "    #在｜11> state所要做的action\n",
    "    qml.ControlledQubitUnitary(Go_Down, control_wires = [7,14,15,16], wires = [17,18], control_values='0110')\n",
    "    qml.ControlledQubitUnitary(Go_Up, control_wires = [7,14,15,16], wires = [17,18], control_values='1110')\n",
    "    \n",
    "    #判斷state 2有無踩到洞\n",
    "    qml.ControlledQubitUnitary(paulix, control_wires = [17,18], wires = [19], control_values='01')\n",
    "    \n",
    "    #將state 2 copy到state 3\n",
    "    qml.CNOT(wires=[17,20])\n",
    "    qml.CNOT(wires=[18,21])\n",
    "    \n",
    "    #判斷在這個state 3要做哪一個action的control unitary(總共會有8個)\n",
    "    #在｜00> state所要做的action\n",
    "    qml.ControlledQubitUnitary(Go_Down, control_wires = [8,17,18,19], wires = [20,21], control_values='0000')\n",
    "    qml.ControlledQubitUnitary(Go_Up, control_wires = [8,17,18,19], wires = [20,21], control_values='1000')   \n",
    "    #在｜01> state所要做的action\n",
    "    qml.ControlledQubitUnitary(Go_Down, control_wires = [9,17,18,19], wires = [20,21], control_values='0010')\n",
    "    qml.ControlledQubitUnitary(Go_Up, control_wires = [9,17,18,19], wires = [20,21], control_values='1010')   \n",
    "    #在｜10> state所要做的action\n",
    "    qml.ControlledQubitUnitary(Go_Down, control_wires = [10,17,18,19], wires = [20,21], control_values='0100')\n",
    "    qml.ControlledQubitUnitary(Go_Up, control_wires = [10,17,18,19], wires = [20,21], control_values='1100')    \n",
    "    #在｜11> state所要做的action\n",
    "    qml.ControlledQubitUnitary(Go_Down, control_wires = [11,17,18,19], wires = [20,21], control_values='0110')\n",
    "    qml.ControlledQubitUnitary(Go_Up, control_wires = [11,17,18,19], wires = [20,21], control_values='1110')\n",
    "    \n",
    "    #判斷state 3有無踩到終點\n",
    "    qml.ControlledQubitUnitary(paulix, control_wires = [20,21], wires = [22], control_values='01')\n",
    "    \n",
    "    return [qml.sample(qml.PauliZ(i)) for i in range(23)]"
   ]
  },
  {
   "cell_type": "code",
   "execution_count": 41,
   "id": "89f41e61-4b00-46eb-ab9b-c93733c8648c",
   "metadata": {},
   "outputs": [
    {
     "name": "stdout",
     "output_type": "stream",
     "text": [
      "  0: ───H──────╭C───╭C────────────────────────────────────────────────────────────────────────────────────────────────────────────────────────────────────────────────┤ Sample[Z] \n",
      "  1: ───H──────│────│────╭C───╭C──────────────────────────────────────────────────────────────────────────────────────────────────────────────────────────────────────┤ Sample[Z] \n",
      "  2: ───H──────│────│────│────│────╭C───╭C────────────────────────────────────────────────────────────────────────────────────────────────────────────────────────────┤ Sample[Z] \n",
      "  3: ───H──────│────│────│────│────│────│────╭C───╭C──────────────────────────────────────────────────────────────────────────────────────────────────────────────────┤ Sample[Z] \n",
      "  4: ───H──────│────│────│────│────│────│────│────│─────────────────╭C───╭C───────────────────────────────────────────────────────────────────────────────────────────┤ Sample[Z] \n",
      "  5: ───H──────│────│────│────│────│────│────│────│─────────────────│────│────╭C───╭C─────────────────────────────────────────────────────────────────────────────────┤ Sample[Z] \n",
      "  6: ───H──────│────│────│────│────│────│────│────│─────────────────│────│────│────│────╭C───╭C───────────────────────────────────────────────────────────────────────┤ Sample[Z] \n",
      "  7: ───H──────│────│────│────│────│────│────│────│─────────────────│────│────│────│────│────│────╭C───╭C─────────────────────────────────────────────────────────────┤ Sample[Z] \n",
      "  8: ───H──────│────│────│────│────│────│────│────│─────────────────│────│────│────│────│────│────│────│─────────────────╭C───╭C──────────────────────────────────────┤ Sample[Z] \n",
      "  9: ───H──────│────│────│────│────│────│────│────│─────────────────│────│────│────│────│────│────│────│─────────────────│────│────╭C───╭C────────────────────────────┤ Sample[Z] \n",
      " 10: ───H──────│────│────│────│────│────│────│────│─────────────────│────│────│────│────│────│────│────│─────────────────│────│────│────│────╭C───╭C──────────────────┤ Sample[Z] \n",
      " 11: ───H──────│────│────│────│────│────│────│────│─────────────────│────│────│────│────│────│────│────│─────────────────│────│────│────│────│────│────╭C───╭C────────┤ Sample[Z] \n",
      " 12: ───X──╭C──├C───├C───├C───├C───├C───├C───├C───├C────────────────│────│────│────│────│────│────│────│─────────────────│────│────│────│────│────│────│────│─────────┤ Sample[Z] \n",
      " 13: ──╭C──│───├C───├C───├C───├C───├C───├C───├C───├C────────────────│────│────│────│────│────│────│────│─────────────────│────│────│────│────│────│────│────│─────────┤ Sample[Z] \n",
      " 14: ──│───╰X──├U0──├U1──├U0──├U1──├U0──├U1──├U0──├U1──╭C───────╭C──├C───├C───├C───├C───├C───├C───├C───├C────────────────│────│────│────│────│────│────│────│─────────┤ Sample[Z] \n",
      " 15: ──╰X──────╰U0──╰U1──╰U0──╰U1──╰U0──╰U1──╰U0──╰U1──├C───╭C──│───├C───├C───├C───├C───├C───├C───├C───├C────────────────│────│────│────│────│────│────│────│─────────┤ Sample[Z] \n",
      " 16: ──────────────────────────────────────────────────╰U2──│───│───├C───├C───├C───├C───├C───├C───├C───├C────────────────│────│────│────│────│────│────│────│─────────┤ Sample[Z] \n",
      " 17: ───────────────────────────────────────────────────────│───╰X──├U0──├U1──├U0──├U1──├U0──├U1──├U0──├U1──╭C───────╭C──├C───├C───├C───├C───├C───├C───├C───├C────────┤ Sample[Z] \n",
      " 18: ───────────────────────────────────────────────────────╰X──────╰U0──╰U1──╰U0──╰U1──╰U0──╰U1──╰U0──╰U1──├C───╭C──│───├C───├C───├C───├C───├C───├C───├C───├C────────┤ Sample[Z] \n",
      " 19: ───────────────────────────────────────────────────────────────────────────────────────────────────────╰U2──│───│───├C───├C───├C───├C───├C───├C───├C───├C────────┤ Sample[Z] \n",
      " 20: ────────────────────────────────────────────────────────────────────────────────────────────────────────────│───╰X──├U0──├U1──├U0──├U1──├U0──├U1──├U0──├U1──╭C───┤ Sample[Z] \n",
      " 21: ────────────────────────────────────────────────────────────────────────────────────────────────────────────╰X──────╰U0──╰U1──╰U0──╰U1──╰U0──╰U1──╰U0──╰U1──├C───┤ Sample[Z] \n",
      " 22: ───H────────────────────────────────────────────────────────────────────────────────────────────────────────────────────────────────────────────────────────╰U2──┤ Sample[Z] \n",
      "U0 =\n",
      "[[0 0 0 1]\n",
      " [1 0 0 0]\n",
      " [0 1 0 0]\n",
      " [0 0 1 0]]\n",
      "U1 =\n",
      "[[0 1 0 0]\n",
      " [0 0 1 0]\n",
      " [0 0 0 1]\n",
      " [1 0 0 0]]\n",
      "U2 =\n",
      "[[0 1]\n",
      " [1 0]]\n",
      "\n"
     ]
    }
   ],
   "source": [
    "drawer = qml.draw(circuit)\n",
    "print(drawer())"
   ]
  },
  {
   "cell_type": "code",
   "execution_count": 52,
   "id": "a6a24133-5985-42fc-92b5-010893edb659",
   "metadata": {},
   "outputs": [],
   "source": [
    "#開始創建quantum circuit\n",
    "dev1 = qml.device('default.qubit', wires = 23, shots = 10)\n",
    "\n",
    "@qml.qnode(dev1)\n",
    "def circuit1():\n",
    "    ############從這邊開始要把每一個state都回復成初始state#################\n",
    "    #回復state3\n",
    "    qml.ControlledQubitUnitary(Go_Down_Dagger, control_wires = [8,17,18,19], wires = [20,21], control_values='0000')\n",
    "    qml.ControlledQubitUnitary(Go_Up_Dagger, control_wires = [8,17,18,19], wires = [20,21], control_values='1000')\n",
    "    qml.ControlledQubitUnitary(Go_Down_Dagger, control_wires = [9,17,18,19], wires = [20,21], control_values='0010')\n",
    "    qml.ControlledQubitUnitary(Go_Up_Dagger, control_wires = [9,17,18,19], wires = [20,21], control_values='1010')\n",
    "    qml.ControlledQubitUnitary(Go_Down_Dagger, control_wires = [10,17,18,19], wires = [20,21], control_values='0100')\n",
    "    qml.ControlledQubitUnitary(Go_Up_Dagger, control_wires = [10,17,18,19], wires = [20,21], control_values='1100')\n",
    "    qml.ControlledQubitUnitary(Go_Down_Dagger, control_wires = [11,17,18,19], wires = [20,21], control_values='0110')\n",
    "    qml.ControlledQubitUnitary(Go_Up_Dagger, control_wires = [11,17,18,19], wires = [20,21], control_values='1110')\n",
    "    \n",
    "    qml.CNOT(wires=[17,20])\n",
    "    qml.CNOT(wires=[18,21])\n",
    "    \n",
    "    qml.ControlledQubitUnitary(paulix, control_wires = [17,18], wires = [19], control_values='01')\n",
    "    \n",
    "    #回復state2\n",
    "    qml.ControlledQubitUnitary(Go_Down_Dagger, control_wires = [4,14,15,16], wires = [17,18], control_values='0000')\n",
    "    qml.ControlledQubitUnitary(Go_Up_Dagger, control_wires = [4,14,15,16], wires = [17,18], control_values='1000')\n",
    "    qml.ControlledQubitUnitary(Go_Down_Dagger, control_wires = [5,14,15,16], wires = [17,18], control_values='0010')\n",
    "    qml.ControlledQubitUnitary(Go_Up_Dagger, control_wires = [5,14,15,16], wires = [17,18], control_values='1010')\n",
    "    qml.ControlledQubitUnitary(Go_Down_Dagger, control_wires = [10,17,18,19], wires = [20,21], control_values='0100')\n",
    "    qml.ControlledQubitUnitary(Go_Up_Dagger, control_wires = [10,17,18,19], wires = [20,21], control_values='1100')\n",
    "    qml.ControlledQubitUnitary(Go_Down_Dagger, control_wires = [7,14,15,16], wires = [17,18], control_values='0110')\n",
    "    qml.ControlledQubitUnitary(Go_Up_Dagger, control_wires = [7,14,15,16], wires = [17,18], control_values='1110')\n",
    "    \n",
    "    qml.CNOT(wires=[14,17])\n",
    "    qml.CNOT(wires=[15,18])\n",
    "    \n",
    "    qml.ControlledQubitUnitary(paulix, control_wires = [14,15], wires = [16], control_values='11')\n",
    "    \n",
    "    #回復state1\n",
    "    qml.ControlledQubitUnitary(Go_Down_Dagger, control_wires = [0,12,13], wires = [14,15], control_values='000')\n",
    "    qml.ControlledQubitUnitary(Go_Up_Dagger, control_wires = [0,12,13], wires = [14,15], control_values='100')\n",
    "    qml.ControlledQubitUnitary(Go_Down_Dagger, control_wires = [1,12,13], wires = [14,15], control_values='001')\n",
    "    qml.ControlledQubitUnitary(Go_Up_Dagger, control_wires = [1,12,13], wires = [14,15], control_values='101')\n",
    "    qml.ControlledQubitUnitary(Go_Down_Dagger, control_wires = [2,12,13], wires = [14,15], control_values='010')\n",
    "    qml.ControlledQubitUnitary(Go_Up_Dagger, control_wires = [2,12,13], wires = [14,15], control_values='110')\n",
    "    qml.ControlledQubitUnitary(Go_Down_Dagger, control_wires = [3,12,13], wires = [14,15], control_values='011')\n",
    "    qml.ControlledQubitUnitary(Go_Up_Dagger, control_wires = [3,12,13], wires = [14,15], control_values='111')\n",
    "    \n",
    "    qml.CNOT(wires=[12,14])\n",
    "    qml.CNOT(wires=[13,15])\n",
    "    \n",
    "    qml.PauliX(12)\n",
    "    return [qml.sample(qml.PauliZ(i)) for i in range(23)]"
   ]
  },
  {
   "cell_type": "code",
   "execution_count": 53,
   "id": "2d61592e-d815-4ee6-9319-c166b095b18c",
   "metadata": {},
   "outputs": [
    {
     "name": "stdout",
     "output_type": "stream",
     "text": [
      "  0: ────────────────────────────────────────────────────────────────────────────────────────────────────────────╭C───╭C────────────────────────────────────────────┤ Sample[Z] \n",
      "  1: ────────────────────────────────────────────────────────────────────────────────────────────────────────────│────│────╭C───╭C──────────────────────────────────┤ Sample[Z] \n",
      "  2: ────────────────────────────────────────────────────────────────────────────────────────────────────────────│────│────│────│────╭C───╭C────────────────────────┤ Sample[Z] \n",
      "  3: ────────────────────────────────────────────────────────────────────────────────────────────────────────────│────│────│────│────│────│────╭C───╭C──────────────┤ Sample[Z] \n",
      "  4: ───────────────────────────────────────────────────────╭C───╭C──────────────────────────────────────────────│────│────│────│────│────│────│────│───────────────┤ Sample[Z] \n",
      "  5: ───────────────────────────────────────────────────────│────│────╭C───╭C────────────────────────────────────│────│────│────│────│────│────│────│───────────────┤ Sample[Z] \n",
      "  6: ───────────────────────────────────────────────────────│────│────│────│─────────────────────────────────────│────│────│────│────│────│────│────│───────────────┤ Sample[Z] \n",
      "  7: ───────────────────────────────────────────────────────│────│────│────│──────────────╭C───╭C────────────────│────│────│────│────│────│────│────│───────────────┤ Sample[Z] \n",
      "  8: ──╭C───╭C──────────────────────────────────────────────│────│────│────│──────────────│────│─────────────────│────│────│────│────│────│────│────│───────────────┤ Sample[Z] \n",
      "  9: ──│────│────╭C───╭C────────────────────────────────────│────│────│────│──────────────│────│─────────────────│────│────│────│────│────│────│────│───────────────┤ Sample[Z] \n",
      " 10: ──│────│────│────│────╭C───╭C──────────────────────────│────│────│────│────╭C───╭C───│────│─────────────────│────│────│────│────│────│────│────│───────────────┤ Sample[Z] \n",
      " 11: ──│────│────│────│────│────│────╭C───╭C────────────────│────│────│────│────│────│────│────│─────────────────│────│────│────│────│────│────│────│───────────────┤ Sample[Z] \n",
      " 12: ──│────│────│────│────│────│────│────│─────────────────│────│────│────│────│────│────│────│─────────────────├C───├C───├C───├C───├C───├C───├C───├C───────╭C──X──┤ Sample[Z] \n",
      " 13: ──│────│────│────│────│────│────│────│─────────────────│────│────│────│────│────│────│────│─────────────────├C───├C───├C───├C───├C───├C───├C───├C───╭C──│──────┤ Sample[Z] \n",
      " 14: ──│────│────│────│────│────│────│────│─────────────────├C───├C───├C───├C───│────│────├C───├C───────╭C──╭C───├U0──├U1──├U0──├U1──├U0──├U1──├U0──├U1──│───╰X─────┤ Sample[Z] \n",
      " 15: ──│────│────│────│────│────│────│────│─────────────────├C───├C───├C───├C───│────│────├C───├C───╭C──│───├C───╰U0──╰U1──╰U0──╰U1──╰U0──╰U1──╰U0──╰U1──╰X─────────┤ Sample[Z] \n",
      " 16: ──│────│────│────│────│────│────│────│─────────────────├C───├C───├C───├C───│────│────├C───├C───│───│───╰U2─────────────────────────────────────────────────────┤ Sample[Z] \n",
      " 17: ──├C───├C───├C───├C───├C───├C───├C───├C───────╭C──╭C───├U0──├U1──├U0──├U1──├C───├C───├U0──├U1──│───╰X──────────────────────────────────────────────────────────┤ Sample[Z] \n",
      " 18: ──├C───├C───├C───├C───├C───├C───├C───├C───╭C──│───├C───╰U0──╰U1──╰U0──╰U1──├C───├C───╰U0──╰U1──╰X──────────────────────────────────────────────────────────────┤ Sample[Z] \n",
      " 19: ──├C───├C───├C───├C───├C───├C───├C───├C───│───│───╰U2──────────────────────├C───├C─────────────────────────────────────────────────────────────────────────────┤ Sample[Z] \n",
      " 20: ──├U0──├U1──├U0──├U1──├U0──├U1──├U0──├U1──│───╰X───────────────────────────├U0──├U1────────────────────────────────────────────────────────────────────────────┤ Sample[Z] \n",
      " 21: ──╰U0──╰U1──╰U0──╰U1──╰U0──╰U1──╰U0──╰U1──╰X───────────────────────────────╰U0──╰U1────────────────────────────────────────────────────────────────────────────┤ Sample[Z] \n",
      " 22: ───────────────────────────────────────────────────────────────────────────────────────────────────────────────────────────────────────────────────────────────┤ Sample[Z] \n",
      "U0 =\n",
      "[[0 1 0 0]\n",
      " [0 0 1 0]\n",
      " [0 0 0 1]\n",
      " [1 0 0 0]]\n",
      "U1 =\n",
      "[[0 0 0 1]\n",
      " [1 0 0 0]\n",
      " [0 1 0 0]\n",
      " [0 0 1 0]]\n",
      "U2 =\n",
      "[[0 1]\n",
      " [1 0]]\n",
      "\n"
     ]
    }
   ],
   "source": [
    "drawer = qml.draw(circuit1)\n",
    "print(drawer())"
   ]
  },
  {
   "cell_type": "code",
   "execution_count": 59,
   "id": "bef2b1ce-e900-47db-95db-a2f4d0de96f3",
   "metadata": {},
   "outputs": [],
   "source": [
    "dev2 = qml.device('default.qubit', wires = 23, shots = 10)\n",
    "\n",
    "@qml.qnode(dev2)\n",
    "def circuit2():\n",
    "    for i in range(12):\n",
    "        qml.Hadamard(i)\n",
    "        qml.PauliX(i)\n",
    "    qml.ControlledQubitUnitary(pauliz, control_wires = [0,1,2,3,4,5,6,7,8,9,10], wires = [11], control_values='11111111111')\n",
    "    for j in range(12):\n",
    "        qml.PauliX(j)\n",
    "        qml.Hadamard(j)\n",
    "    return [qml.sample(qml.PauliZ(i)) for i in range(23)]"
   ]
  },
  {
   "cell_type": "code",
   "execution_count": 60,
   "id": "cf687111-ac93-470a-9242-31cc193bbaea",
   "metadata": {},
   "outputs": [
    {
     "name": "stdout",
     "output_type": "stream",
     "text": [
      "  0: ──H──X──╭C───X──H──┤ Sample[Z] \n",
      "  1: ──H──X──├C───X──H──┤ Sample[Z] \n",
      "  2: ──H──X──├C───X──H──┤ Sample[Z] \n",
      "  3: ──H──X──├C───X──H──┤ Sample[Z] \n",
      "  4: ──H──X──├C───X──H──┤ Sample[Z] \n",
      "  5: ──H──X──├C───X──H──┤ Sample[Z] \n",
      "  6: ──H──X──├C───X──H──┤ Sample[Z] \n",
      "  7: ──H──X──├C───X──H──┤ Sample[Z] \n",
      "  8: ──H──X──├C───X──H──┤ Sample[Z] \n",
      "  9: ──H──X──├C───X──H──┤ Sample[Z] \n",
      " 10: ──H──X──├C───X──H──┤ Sample[Z] \n",
      " 11: ──H──X──╰U0──X──H──┤ Sample[Z] \n",
      " 12: ───────────────────┤ Sample[Z] \n",
      " 13: ───────────────────┤ Sample[Z] \n",
      " 14: ───────────────────┤ Sample[Z] \n",
      " 15: ───────────────────┤ Sample[Z] \n",
      " 16: ───────────────────┤ Sample[Z] \n",
      " 17: ───────────────────┤ Sample[Z] \n",
      " 18: ───────────────────┤ Sample[Z] \n",
      " 19: ───────────────────┤ Sample[Z] \n",
      " 20: ───────────────────┤ Sample[Z] \n",
      " 21: ───────────────────┤ Sample[Z] \n",
      " 22: ───────────────────┤ Sample[Z] \n",
      "U0 =\n",
      "[[ 1  0]\n",
      " [ 0 -1]]\n",
      "\n"
     ]
    }
   ],
   "source": [
    "drawer = qml.draw(circuit2)\n",
    "print(drawer())"
   ]
  },
  {
   "cell_type": "markdown",
   "id": "8bcdb6e9-1c11-4781-86f3-3b6a4147ce8c",
   "metadata": {},
   "source": [
    "## 將以上circuit重複數次即可完成？"
   ]
  },
  {
   "cell_type": "code",
   "execution_count": 4,
   "id": "afa618b2-8d40-4084-ad25-7d451d8b16e2",
   "metadata": {},
   "outputs": [],
   "source": [
    "dev3 = qml.device('default.qubit', wires = 23)\n",
    "repeat_time = 2\n",
    "\n",
    "@qml.qnode(dev3)\n",
    "def circuit3():\n",
    "    #使table為equally superposition的\n",
    "    for i in range(12):\n",
    "        qml.Hadamard(i)\n",
    "    \n",
    "    #在f(x)那個wire放置一個hadamard gate\n",
    "    qml.Hadamard(22)\n",
    "    \n",
    "    for k in range(repeat_time):\n",
    "        #設定初始位置（設為10）\n",
    "        qml.PauliX(12)\n",
    "\n",
    "        #將初始state的狀態copy到state 1\n",
    "        qml.CNOT(wires=[12,14])\n",
    "        qml.CNOT(wires=[13,15])\n",
    "\n",
    "        #判斷在這個state 1要做哪一個action的control unitary(總共會有8個)    \n",
    "        #在｜00> state所要做的action\n",
    "        qml.ControlledQubitUnitary(Go_Down, control_wires = [0,12,13], wires = [14,15], control_values='000')\n",
    "        qml.ControlledQubitUnitary(Go_Up, control_wires = [0,12,13], wires = [14,15], control_values='100')   \n",
    "        #在｜01> state所要做的action\n",
    "        qml.ControlledQubitUnitary(Go_Down, control_wires = [1,12,13], wires = [14,15], control_values='001')\n",
    "        qml.ControlledQubitUnitary(Go_Up, control_wires = [1,12,13], wires = [14,15], control_values='101')   \n",
    "        #在｜10> state所要做的action\n",
    "        qml.ControlledQubitUnitary(Go_Down, control_wires = [2,12,13], wires = [14,15], control_values='010')\n",
    "        qml.ControlledQubitUnitary(Go_Up, control_wires = [2,12,13], wires = [14,15], control_values='110')    \n",
    "        #在｜11> state所要做的action\n",
    "        qml.ControlledQubitUnitary(Go_Down, control_wires = [3,12,13], wires = [14,15], control_values='011')\n",
    "        qml.ControlledQubitUnitary(Go_Up, control_wires = [3,12,13], wires = [14,15], control_values='111')\n",
    "\n",
    "        #判斷state 1有無踩到洞\n",
    "        qml.ControlledQubitUnitary(paulix, control_wires = [14,15], wires = [16], control_values='11')\n",
    "\n",
    "        #將state 1 copy到state 2\n",
    "        qml.CNOT(wires=[14,17])\n",
    "        qml.CNOT(wires=[15,18])\n",
    "\n",
    "        #判斷在這個state 2要做哪一個action的control unitary(總共會有8個)\n",
    "        #在｜00> state所要做的action\n",
    "        qml.ControlledQubitUnitary(Go_Down, control_wires = [4,14,15,16], wires = [17,18], control_values='0000')\n",
    "        qml.ControlledQubitUnitary(Go_Up, control_wires = [4,14,15,16], wires = [17,18], control_values='1000')   \n",
    "        #在｜01> state所要做的action\n",
    "        qml.ControlledQubitUnitary(Go_Down, control_wires = [5,14,15,16], wires = [17,18], control_values='0010')\n",
    "        qml.ControlledQubitUnitary(Go_Up, control_wires = [5,14,15,16], wires = [17,18], control_values='1010')   \n",
    "        #在｜10> state所要做的action\n",
    "        qml.ControlledQubitUnitary(Go_Down, control_wires = [6,14,15,16], wires = [17,18], control_values='0100')\n",
    "        qml.ControlledQubitUnitary(Go_Up, control_wires = [6,14,15,16], wires = [17,18], control_values='1100')    \n",
    "        #在｜11> state所要做的action\n",
    "        qml.ControlledQubitUnitary(Go_Down, control_wires = [7,14,15,16], wires = [17,18], control_values='0110')\n",
    "        qml.ControlledQubitUnitary(Go_Up, control_wires = [7,14,15,16], wires = [17,18], control_values='1110')\n",
    "\n",
    "        #判斷state 2有無踩到洞\n",
    "        qml.ControlledQubitUnitary(paulix, control_wires = [17,18], wires = [19], control_values='01')\n",
    "\n",
    "        #將state 2 copy到state 3\n",
    "        qml.CNOT(wires=[17,20])\n",
    "        qml.CNOT(wires=[18,21])\n",
    "\n",
    "        #判斷在這個state 3要做哪一個action的control unitary(總共會有8個)\n",
    "        #在｜00> state所要做的action\n",
    "        qml.ControlledQubitUnitary(Go_Down, control_wires = [8,17,18,19], wires = [20,21], control_values='0000')\n",
    "        qml.ControlledQubitUnitary(Go_Up, control_wires = [8,17,18,19], wires = [20,21], control_values='1000')   \n",
    "        #在｜01> state所要做的action\n",
    "        qml.ControlledQubitUnitary(Go_Down, control_wires = [9,17,18,19], wires = [20,21], control_values='0010')\n",
    "        qml.ControlledQubitUnitary(Go_Up, control_wires = [9,17,18,19], wires = [20,21], control_values='1010')   \n",
    "        #在｜10> state所要做的action\n",
    "        qml.ControlledQubitUnitary(Go_Down, control_wires = [10,17,18,19], wires = [20,21], control_values='0100')\n",
    "        qml.ControlledQubitUnitary(Go_Up, control_wires = [10,17,18,19], wires = [20,21], control_values='1100')    \n",
    "        #在｜11> state所要做的action\n",
    "        qml.ControlledQubitUnitary(Go_Down, control_wires = [11,17,18,19], wires = [20,21], control_values='0110')\n",
    "        qml.ControlledQubitUnitary(Go_Up, control_wires = [11,17,18,19], wires = [20,21], control_values='1110')\n",
    "\n",
    "        #判斷state 3有無踩到終點\n",
    "        qml.ControlledQubitUnitary(paulix, control_wires = [20,21], wires = [22], control_values='01')\n",
    "\n",
    "        ############從這邊開始要把每一個state都回復成初始state#################\n",
    "        #回復state3\n",
    "        qml.ControlledQubitUnitary(Go_Down_Dagger, control_wires = [8,17,18,19], wires = [20,21], control_values='0000')\n",
    "        qml.ControlledQubitUnitary(Go_Up_Dagger, control_wires = [8,17,18,19], wires = [20,21], control_values='1000')\n",
    "        qml.ControlledQubitUnitary(Go_Down_Dagger, control_wires = [9,17,18,19], wires = [20,21], control_values='0010')\n",
    "        qml.ControlledQubitUnitary(Go_Up_Dagger, control_wires = [9,17,18,19], wires = [20,21], control_values='1010')\n",
    "        qml.ControlledQubitUnitary(Go_Down_Dagger, control_wires = [10,17,18,19], wires = [20,21], control_values='0100')\n",
    "        qml.ControlledQubitUnitary(Go_Up_Dagger, control_wires = [10,17,18,19], wires = [20,21], control_values='1100')\n",
    "        qml.ControlledQubitUnitary(Go_Down_Dagger, control_wires = [11,17,18,19], wires = [20,21], control_values='0110')\n",
    "        qml.ControlledQubitUnitary(Go_Up_Dagger, control_wires = [11,17,18,19], wires = [20,21], control_values='1110')\n",
    "\n",
    "        qml.CNOT(wires=[17,20])\n",
    "        qml.CNOT(wires=[18,21])\n",
    "\n",
    "        qml.ControlledQubitUnitary(paulix, control_wires = [17,18], wires = [19], control_values='01')\n",
    "\n",
    "        #回復state2\n",
    "        qml.ControlledQubitUnitary(Go_Down_Dagger, control_wires = [4,14,15,16], wires = [17,18], control_values='0000')\n",
    "        qml.ControlledQubitUnitary(Go_Up_Dagger, control_wires = [4,14,15,16], wires = [17,18], control_values='1000')\n",
    "        qml.ControlledQubitUnitary(Go_Down_Dagger, control_wires = [5,14,15,16], wires = [17,18], control_values='0010')\n",
    "        qml.ControlledQubitUnitary(Go_Up_Dagger, control_wires = [5,14,15,16], wires = [17,18], control_values='1010')\n",
    "        qml.ControlledQubitUnitary(Go_Down_Dagger, control_wires = [10,17,18,19], wires = [20,21], control_values='0100')\n",
    "        qml.ControlledQubitUnitary(Go_Up_Dagger, control_wires = [10,17,18,19], wires = [20,21], control_values='1100')\n",
    "        qml.ControlledQubitUnitary(Go_Down_Dagger, control_wires = [7,14,15,16], wires = [17,18], control_values='0110')\n",
    "        qml.ControlledQubitUnitary(Go_Up_Dagger, control_wires = [7,14,15,16], wires = [17,18], control_values='1110')\n",
    "\n",
    "        qml.CNOT(wires=[14,17])\n",
    "        qml.CNOT(wires=[15,18])\n",
    "\n",
    "        qml.ControlledQubitUnitary(paulix, control_wires = [14,15], wires = [16], control_values='11')\n",
    "\n",
    "        #回復state1\n",
    "        qml.ControlledQubitUnitary(Go_Down_Dagger, control_wires = [0,12,13], wires = [14,15], control_values='000')\n",
    "        qml.ControlledQubitUnitary(Go_Up_Dagger, control_wires = [0,12,13], wires = [14,15], control_values='100')\n",
    "        qml.ControlledQubitUnitary(Go_Down_Dagger, control_wires = [1,12,13], wires = [14,15], control_values='001')\n",
    "        qml.ControlledQubitUnitary(Go_Up_Dagger, control_wires = [1,12,13], wires = [14,15], control_values='101')\n",
    "        qml.ControlledQubitUnitary(Go_Down_Dagger, control_wires = [2,12,13], wires = [14,15], control_values='010')\n",
    "        qml.ControlledQubitUnitary(Go_Up_Dagger, control_wires = [2,12,13], wires = [14,15], control_values='110')\n",
    "        qml.ControlledQubitUnitary(Go_Down_Dagger, control_wires = [3,12,13], wires = [14,15], control_values='011')\n",
    "        qml.ControlledQubitUnitary(Go_Up_Dagger, control_wires = [3,12,13], wires = [14,15], control_values='111')\n",
    "\n",
    "        qml.CNOT(wires=[12,14])\n",
    "        qml.CNOT(wires=[13,15])\n",
    "\n",
    "        qml.PauliX(12)\n",
    "\n",
    "        for i in range(12):\n",
    "            qml.Hadamard(i)\n",
    "            qml.PauliX(i)\n",
    "        qml.ControlledQubitUnitary(pauliz, control_wires = [0,1,2,3,4,5,6,7,8,9,10], wires = [11], control_values='11111111111')\n",
    "        for j in range(12):\n",
    "            qml.PauliX(j)\n",
    "            qml.Hadamard(j)\n",
    "    return qml.probs(wires=[0,1,2,3,4,5,6,7,8,9,10,11])"
   ]
  },
  {
   "cell_type": "code",
   "execution_count": 5,
   "id": "e82a9c60-ee44-44f0-8f56-d8aa3b2323e1",
   "metadata": {},
   "outputs": [],
   "source": [
    "A = circuit3()"
   ]
  },
  {
   "cell_type": "code",
   "execution_count": 6,
   "id": "8a152062-9387-4b88-ae59-0fb6b6164292",
   "metadata": {},
   "outputs": [
    {
     "data": {
      "text/plain": [
       "4096"
      ]
     },
     "execution_count": 6,
     "metadata": {},
     "output_type": "execute_result"
    }
   ],
   "source": [
    "np.shape(A)[0]"
   ]
  },
  {
   "cell_type": "code",
   "execution_count": 7,
   "id": "2bd8f00d-fc8d-4293-a229-94760c276d7c",
   "metadata": {},
   "outputs": [
    {
     "data": {
      "text/plain": [
       "tensor(0.00024414, requires_grad=True)"
      ]
     },
     "execution_count": 7,
     "metadata": {},
     "output_type": "execute_result"
    }
   ],
   "source": []
  },
  {
   "cell_type": "code",
   "execution_count": 7,
   "id": "6a50a039-261a-4712-b969-79fe7721bf74",
   "metadata": {},
   "outputs": [
    {
     "name": "stdout",
     "output_type": "stream",
     "text": [
      "  0: ───H──────╭C───╭C────────────────────────────────────────────────────────────────────────────────────────────────────────────────────────────────────────────────────────────────────────────────────────────────────────────────────────────────────────────────────────────────╭C───╭C────H────X───────────────────────────────────╭C────X──H──╭C───╭C────────────────────────────────────────────────────────────────────────────────────────────────────────────────────────────────────────────────────────────────────────────────────────────────────────────────────────────────────────────────────────────────╭C───╭C────H────X───────────────────────────────────╭C────X──H──╭C───╭C────────────────────────────────────────────────────────────────────────────────────────────────────────────────────────────────────────────────────────────────────────────────────────────────────────────────────────────────────────────────────────────────╭C───╭C────H────X───────────────────────────────────╭C────X──H──╭C───╭C────────────────────────────────────────────────────────────────────────────────────────────────────────────────────────────────────────────────────────────────────────────────────────────────────────────────────────────────────────────────────────────────╭C───╭C────H────X───────────────────────────────────╭C────X──H──╭C───╭C────────────────────────────────────────────────────────────────────────────────────────────────────────────────────────────────────────────────────────────────────────────────────────────────────────────────────────────────────────────────────────────────╭C───╭C────H────X──────────────────────────────────╭C───X──H──┤ Sample[Z] \n",
      "  1: ───H──────│────│────╭C───╭C──────────────────────────────────────────────────────────────────────────────────────────────────────────────────────────────────────────────────────────────────────────────────────────────────────────────────────────────────────────────────────│────│────╭C───╭C────H────X─────────────────────────├C────X──H──│────│────╭C───╭C──────────────────────────────────────────────────────────────────────────────────────────────────────────────────────────────────────────────────────────────────────────────────────────────────────────────────────────────────────────────────────│────│────╭C───╭C────H────X─────────────────────────├C────X──H──│────│────╭C───╭C──────────────────────────────────────────────────────────────────────────────────────────────────────────────────────────────────────────────────────────────────────────────────────────────────────────────────────────────────────────────────────│────│────╭C───╭C────H────X─────────────────────────├C────X──H──│────│────╭C───╭C──────────────────────────────────────────────────────────────────────────────────────────────────────────────────────────────────────────────────────────────────────────────────────────────────────────────────────────────────────────────────────│────│────╭C───╭C────H────X─────────────────────────├C────X──H──│────│────╭C───╭C──────────────────────────────────────────────────────────────────────────────────────────────────────────────────────────────────────────────────────────────────────────────────────────────────────────────────────────────────────────────────────│────│────╭C───╭C────H────X────────────────────────├C───X──H──┤ Sample[Z] \n",
      "  2: ───H──────│────│────│────│────╭C───╭C────────────────────────────────────────────────────────────────────────────────────────────────────────────────────────────────────────────────────────────────────────────────────────────────────────────────────────────────────────────│────│────│────│────╭C───╭C────H────X───────────────├C────X──H──│────│────│────│────╭C───╭C────────────────────────────────────────────────────────────────────────────────────────────────────────────────────────────────────────────────────────────────────────────────────────────────────────────────────────────────────────────│────│────│────│────╭C───╭C────H────X───────────────├C────X──H──│────│────│────│────╭C───╭C────────────────────────────────────────────────────────────────────────────────────────────────────────────────────────────────────────────────────────────────────────────────────────────────────────────────────────────────────────────│────│────│────│────╭C───╭C────H────X───────────────├C────X──H──│────│────│────│────╭C───╭C────────────────────────────────────────────────────────────────────────────────────────────────────────────────────────────────────────────────────────────────────────────────────────────────────────────────────────────────────────────│────│────│────│────╭C───╭C────H────X───────────────├C────X──H──│────│────│────│────╭C───╭C────────────────────────────────────────────────────────────────────────────────────────────────────────────────────────────────────────────────────────────────────────────────────────────────────────────────────────────────────────────│────│────│────│────╭C───╭C────H────X──────────────├C───X──H──┤ Sample[Z] \n",
      "  3: ───H──────│────│────│────│────│────│────╭C───╭C──────────────────────────────────────────────────────────────────────────────────────────────────────────────────────────────────────────────────────────────────────────────────────────────────────────────────────────────────│────│────│────│────│────│────╭C───╭C────H───────X──├C────X──H──│────│────│────│────│────│────╭C───╭C──────────────────────────────────────────────────────────────────────────────────────────────────────────────────────────────────────────────────────────────────────────────────────────────────────────────────────────────────│────│────│────│────│────│────╭C───╭C────H───────X──├C────X──H──│────│────│────│────│────│────╭C───╭C──────────────────────────────────────────────────────────────────────────────────────────────────────────────────────────────────────────────────────────────────────────────────────────────────────────────────────────────────│────│────│────│────│────│────╭C───╭C────H───────X──├C────X──H──│────│────│────│────│────│────╭C───╭C──────────────────────────────────────────────────────────────────────────────────────────────────────────────────────────────────────────────────────────────────────────────────────────────────────────────────────────────────│────│────│────│────│────│────╭C───╭C────H───────X──├C────X──H──│────│────│────│────│────│────╭C───╭C──────────────────────────────────────────────────────────────────────────────────────────────────────────────────────────────────────────────────────────────────────────────────────────────────────────────────────────────────│────│────│────│────│────│────╭C───╭C────H──────X──├C───X──H──┤ Sample[Z] \n",
      "  4: ───H──────│────│────│────│────│────│────│────│─────────────────╭C───╭C────────────────────────────────────────────────────────────────────────────────────────────────────────────────────────────────────────────────╭C───╭C────H────X──────────────────────────────────────────│────│────│────│────│────│────│────│────────────────├C────X──H──│────│────│────│────│────│────│────│─────────────────╭C───╭C────────────────────────────────────────────────────────────────────────────────────────────────────────────────────────────────────────────────╭C───╭C────H────X──────────────────────────────────────────│────│────│────│────│────│────│────│────────────────├C────X──H──│────│────│────│────│────│────│────│─────────────────╭C───╭C────────────────────────────────────────────────────────────────────────────────────────────────────────────────────────────────────────────────╭C───╭C────H────X──────────────────────────────────────────│────│────│────│────│────│────│────│────────────────├C────X──H──│────│────│────│────│────│────│────│─────────────────╭C───╭C────────────────────────────────────────────────────────────────────────────────────────────────────────────────────────────────────────────────╭C───╭C────H────X──────────────────────────────────────────│────│────│────│────│────│────│────│────────────────├C────X──H──│────│────│────│────│────│────│────│─────────────────╭C───╭C────────────────────────────────────────────────────────────────────────────────────────────────────────────────────────────────────────────────╭C───╭C────H────X──────────────────────────────────────────│────│────│────│────│────│────│────│───────────────├C───X──H──┤ Sample[Z] \n",
      "  5: ───H──────│────│────│────│────│────│────│────│─────────────────│────│────╭C───╭C──────────────────────────────────────────────────────────────────────────────────────────────────────────────────────────────────────│────│────╭C───╭C────H────X────────────────────────────────│────│────│────│────│────│────│────│────────────────├C────X──H──│────│────│────│────│────│────│────│─────────────────│────│────╭C───╭C──────────────────────────────────────────────────────────────────────────────────────────────────────────────────────────────────────│────│────╭C───╭C────H────X────────────────────────────────│────│────│────│────│────│────│────│────────────────├C────X──H──│────│────│────│────│────│────│────│─────────────────│────│────╭C───╭C──────────────────────────────────────────────────────────────────────────────────────────────────────────────────────────────────────│────│────╭C───╭C────H────X────────────────────────────────│────│────│────│────│────│────│────│────────────────├C────X──H──│────│────│────│────│────│────│────│─────────────────│────│────╭C───╭C──────────────────────────────────────────────────────────────────────────────────────────────────────────────────────────────────────│────│────╭C───╭C────H────X────────────────────────────────│────│────│────│────│────│────│────│────────────────├C────X──H──│────│────│────│────│────│────│────│─────────────────│────│────╭C───╭C──────────────────────────────────────────────────────────────────────────────────────────────────────────────────────────────────────│────│────╭C───╭C────H────X────────────────────────────────│────│────│────│────│────│────│────│───────────────├C───X──H──┤ Sample[Z] \n",
      "  6: ───H──────│────│────│────│────│────│────│────│─────────────────│────│────│────│────╭C───╭C────H────X──────────────────────────────────────────────────────────────────────────────────────────────────────────────────│────│────│────│───────────────────────────────────────────│────│────│────│────│────│────│────│────────────────├C────X──H──│────│────│────│────│────│────│────│─────────────────│────│────│────│────╭C───╭C────H────X──────────────────────────────────────────────────────────────────────────────────────────────────────────────────│────│────│────│───────────────────────────────────────────│────│────│────│────│────│────│────│────────────────├C────X──H──│────│────│────│────│────│────│────│─────────────────│────│────│────│────╭C───╭C────H────X──────────────────────────────────────────────────────────────────────────────────────────────────────────────────│────│────│────│───────────────────────────────────────────│────│────│────│────│────│────│────│────────────────├C────X──H──│────│────│────│────│────│────│────│─────────────────│────│────│────│────╭C───╭C────H────X──────────────────────────────────────────────────────────────────────────────────────────────────────────────────│────│────│────│───────────────────────────────────────────│────│────│────│────│────│────│────│────────────────├C────X──H──│────│────│────│────│────│────│────│─────────────────│────│────│────│────╭C───╭C────H────X──────────────────────────────────────────────────────────────────────────────────────────────────────────────────│────│────│────│───────────────────────────────────────────│────│────│────│────│────│────│────│───────────────├C───X──H──┤ Sample[Z] \n",
      "  7: ───H──────│────│────│────│────│────│────│────│─────────────────│────│────│────│────│────│────╭C───╭C──────────────────────────────────────────────────────────────────────────────────────────────────────────────────│────│────│────│─────────────────╭C──────╭C────H───────X───│────│────│────│────│────│────│────│────────────────├C────X──H──│────│────│────│────│────│────│────│─────────────────│────│────│────│────│────│────╭C───╭C──────────────────────────────────────────────────────────────────────────────────────────────────────────────────│────│────│────│─────────────────╭C──────╭C────H───────X───│────│────│────│────│────│────│────│────────────────├C────X──H──│────│────│────│────│────│────│────│─────────────────│────│────│────│────│────│────╭C───╭C──────────────────────────────────────────────────────────────────────────────────────────────────────────────────│────│────│────│─────────────────╭C──────╭C────H───────X───│────│────│────│────│────│────│────│────────────────├C────X──H──│────│────│────│────│────│────│────│─────────────────│────│────│────│────│────│────╭C───╭C──────────────────────────────────────────────────────────────────────────────────────────────────────────────────│────│────│────│─────────────────╭C──────╭C────H───────X───│────│────│────│────│────│────│────│────────────────├C────X──H──│────│────│────│────│────│────│────│─────────────────│────│────│────│────│────│────╭C───╭C──────────────────────────────────────────────────────────────────────────────────────────────────────────────────│────│────│────│─────────────────╭C──────╭C────H───────X───│────│────│────│────│────│────│────│───────────────├C───X──H──┤ Sample[Z] \n",
      "  8: ───H──────│────│────│────│────│────│────│────│─────────────────│────│────│────│────│────│────│────│─────────────────╭C───╭C──────────────────────────────────────╭C───╭C────H────X────────────────────────────────────│────│────│────│─────────────────│───────│─────────────────│────│────│────│────│────│────│────│────────────────├C────X──H──│────│────│────│────│────│────│────│─────────────────│────│────│────│────│────│────│────│─────────────────╭C───╭C──────────────────────────────────────╭C───╭C────H────X────────────────────────────────────│────│────│────│─────────────────│───────│─────────────────│────│────│────│────│────│────│────│────────────────├C────X──H──│────│────│────│────│────│────│────│─────────────────│────│────│────│────│────│────│────│─────────────────╭C───╭C──────────────────────────────────────╭C───╭C────H────X────────────────────────────────────│────│────│────│─────────────────│───────│─────────────────│────│────│────│────│────│────│────│────────────────├C────X──H──│────│────│────│────│────│────│────│─────────────────│────│────│────│────│────│────│────│─────────────────╭C───╭C──────────────────────────────────────╭C───╭C────H────X────────────────────────────────────│────│────│────│─────────────────│───────│─────────────────│────│────│────│────│────│────│────│────────────────├C────X──H──│────│────│────│────│────│────│────│─────────────────│────│────│────│────│────│────│────│─────────────────╭C───╭C──────────────────────────────────────╭C───╭C────H────X────────────────────────────────────│────│────│────│─────────────────│───────│─────────────────│────│────│────│────│────│────│────│───────────────├C───X──H──┤ Sample[Z] \n",
      "  9: ───H──────│────│────│────│────│────│────│────│─────────────────│────│────│────│────│────│────│────│─────────────────│────│────╭C───╭C────────────────────────────│────│────╭C───╭C────H────X──────────────────────────│────│────│────│─────────────────│───────│─────────────────│────│────│────│────│────│────│────│────────────────├C────X──H──│────│────│────│────│────│────│────│─────────────────│────│────│────│────│────│────│────│─────────────────│────│────╭C───╭C────────────────────────────│────│────╭C───╭C────H────X──────────────────────────│────│────│────│─────────────────│───────│─────────────────│────│────│────│────│────│────│────│────────────────├C────X──H──│────│────│────│────│────│────│────│─────────────────│────│────│────│────│────│────│────│─────────────────│────│────╭C───╭C────────────────────────────│────│────╭C───╭C────H────X──────────────────────────│────│────│────│─────────────────│───────│─────────────────│────│────│────│────│────│────│────│────────────────├C────X──H──│────│────│────│────│────│────│────│─────────────────│────│────│────│────│────│────│────│─────────────────│────│────╭C───╭C────────────────────────────│────│────╭C───╭C────H────X──────────────────────────│────│────│────│─────────────────│───────│─────────────────│────│────│────│────│────│────│────│────────────────├C────X──H──│────│────│────│────│────│────│────│─────────────────│────│────│────│────│────│────│────│─────────────────│────│────╭C───╭C────────────────────────────│────│────╭C───╭C────H────X──────────────────────────│────│────│────│─────────────────│───────│─────────────────│────│────│────│────│────│────│────│───────────────├C───X──H──┤ Sample[Z] \n",
      " 10: ───H──────│────│────│────│────│────│────│────│─────────────────│────│────│────│────│────│────│────│─────────────────│────│────│────│────╭C───╭C──────────────────│────│────│────│────╭C───╭C──────────────────────────│────│────│────│────╭C───╭C───H──│────X──│─────────────────│────│────│────│────│────│────│────│────────────────├C────X──H──│────│────│────│────│────│────│────│─────────────────│────│────│────│────│────│────│────│─────────────────│────│────│────│────╭C───╭C──────────────────│────│────│────│────╭C───╭C──────────────────────────│────│────│────│────╭C───╭C───H──│────X──│─────────────────│────│────│────│────│────│────│────│────────────────├C────X──H──│────│────│────│────│────│────│────│─────────────────│────│────│────│────│────│────│────│─────────────────│────│────│────│────╭C───╭C──────────────────│────│────│────│────╭C───╭C──────────────────────────│────│────│────│────╭C───╭C───H──│────X──│─────────────────│────│────│────│────│────│────│────│────────────────├C────X──H──│────│────│────│────│────│────│────│─────────────────│────│────│────│────│────│────│────│─────────────────│────│────│────│────╭C───╭C──────────────────│────│────│────│────╭C───╭C──────────────────────────│────│────│────│────╭C───╭C───H──│────X──│─────────────────│────│────│────│────│────│────│────│────────────────├C────X──H──│────│────│────│────│────│────│────│─────────────────│────│────│────│────│────│────│────│─────────────────│────│────│────│────╭C───╭C──────────────────│────│────│────│────╭C───╭C──────────────────────────│────│────│────│────╭C───╭C───H──│────X──│─────────────────│────│────│────│────│────│────│────│───────────────├C───X──H──┤ Sample[Z] \n",
      " 11: ───H──────│────│────│────│────│────│────│────│─────────────────│────│────│────│────│────│────│────│─────────────────│────│────│────│────│────│────╭C───╭C────────│────│────│────│────│────│────╭C───╭C────H───────X───│────│────│────│────│────│───────│───────│─────────────────│────│────│────│────│────│────│────│────────────────╰U3───X──H──│────│────│────│────│────│────│────│─────────────────│────│────│────│────│────│────│────│─────────────────│────│────│────│────│────│────╭C───╭C────────│────│────│────│────│────│────╭C───╭C────H───────X───│────│────│────│────│────│───────│───────│─────────────────│────│────│────│────│────│────│────│────────────────╰U3───X──H──│────│────│────│────│────│────│────│─────────────────│────│────│────│────│────│────│────│─────────────────│────│────│────│────│────│────╭C───╭C────────│────│────│────│────│────│────╭C───╭C────H───────X───│────│────│────│────│────│───────│───────│─────────────────│────│────│────│────│────│────│────│────────────────╰U3───X──H──│────│────│────│────│────│────│────│─────────────────│────│────│────│────│────│────│────│─────────────────│────│────│────│────│────│────╭C───╭C────────│────│────│────│────│────│────╭C───╭C────H───────X───│────│────│────│────│────│───────│───────│─────────────────│────│────│────│────│────│────│────│────────────────╰U3───X──H──│────│────│────│────│────│────│────│─────────────────│────│────│────│────│────│────│────│─────────────────│────│────│────│────│────│────╭C───╭C────────│────│────│────│────│────│────╭C───╭C────H───────X───│────│────│────│────│────│───────│───────│─────────────────│────│────│────│────│────│────│────│───────────────╰U3──X──H──┤ Sample[Z] \n",
      " 12: ───X──╭C──├C───├C───├C───├C───├C───├C───├C───├C────────────────│────│────│────│────│────│────│────│─────────────────│────│────│────│────│────│────│────│─────────│────│────│────│────│────│────│────│─────────────────│────│────│────│────│────│───────│───────│─────────────────├C───├C───├C───├C───├C───├C───├C───├C───────╭C───X───X───╭C─────├C───├C───├C───├C───├C───├C───├C───├C────────────────│────│────│────│────│────│────│────│─────────────────│────│────│────│────│────│────│────│─────────│────│────│────│────│────│────│────│─────────────────│────│────│────│────│────│───────│───────│─────────────────├C───├C───├C───├C───├C───├C───├C───├C───────╭C───X───X───╭C─────├C───├C───├C───├C───├C───├C───├C───├C────────────────│────│────│────│────│────│────│────│─────────────────│────│────│────│────│────│────│────│─────────│────│────│────│────│────│────│────│─────────────────│────│────│────│────│────│───────│───────│─────────────────├C───├C───├C───├C───├C───├C───├C───├C───────╭C───X───X───╭C─────├C───├C───├C───├C───├C───├C───├C───├C────────────────│────│────│────│────│────│────│────│─────────────────│────│────│────│────│────│────│────│─────────│────│────│────│────│────│────│────│─────────────────│────│────│────│────│────│───────│───────│─────────────────├C───├C───├C───├C───├C───├C───├C───├C───────╭C───X───X───╭C─────├C───├C───├C───├C───├C───├C───├C───├C────────────────│────│────│────│────│────│────│────│─────────────────│────│────│────│────│────│────│────│─────────│────│────│────│────│────│────│────│─────────────────│────│────│────│────│────│───────│───────│─────────────────├C───├C───├C───├C───├C───├C───├C───├C───────╭C──X─────────────┤ Sample[Z] \n",
      " 13: ──╭C──│───├C───├C───├C───├C───├C───├C───├C───├C────────────────│────│────│────│────│────│────│────│─────────────────│────│────│────│────│────│────│────│─────────│────│────│────│────│────│────│────│─────────────────│────│────│────│────│────│───────│───────│─────────────────├C───├C───├C───├C───├C───├C───├C───├C───╭C──│───╭C───────│──────├C───├C───├C───├C───├C───├C───├C───├C────────────────│────│────│────│────│────│────│────│─────────────────│────│────│────│────│────│────│────│─────────│────│────│────│────│────│────│────│─────────────────│────│────│────│────│────│───────│───────│─────────────────├C───├C───├C───├C───├C───├C───├C───├C───╭C──│───╭C───────│──────├C───├C───├C───├C───├C───├C───├C───├C────────────────│────│────│────│────│────│────│────│─────────────────│────│────│────│────│────│────│────│─────────│────│────│────│────│────│────│────│─────────────────│────│────│────│────│────│───────│───────│─────────────────├C───├C───├C───├C───├C───├C───├C───├C───╭C──│───╭C───────│──────├C───├C───├C───├C───├C───├C───├C───├C────────────────│────│────│────│────│────│────│────│─────────────────│────│────│────│────│────│────│────│─────────│────│────│────│────│────│────│────│─────────────────│────│────│────│────│────│───────│───────│─────────────────├C───├C───├C───├C───├C───├C───├C───├C───╭C──│───╭C───────│──────├C───├C───├C───├C───├C───├C───├C───├C────────────────│────│────│────│────│────│────│────│─────────────────│────│────│────│────│────│────│────│─────────│────│────│────│────│────│────│────│─────────────────│────│────│────│────│────│───────│───────│─────────────────├C───├C───├C───├C───├C───├C───├C───├C───╭C──│─────────────────┤ Sample[Z] \n",
      " 14: ──│───╰X──├U0──├U1──├U0──├U1──├U0──├U1──├U0──├U1──╭C───────╭C──├C───├C───├C───├C───├C───├C───├C───├C────────────────│────│────│────│────│────│────│────│─────────│────│────│────│────│────│────│────│─────────────────├C───├C───├C───├C───│────│───────├C──────├C───────╭C──╭C───├U1──├U0──├U1──├U0──├U1──├U0──├U1──├U0──│───╰X──│────────╰X─────├U0──├U1──├U0──├U1──├U0──├U1──├U0──├U1──╭C───────╭C──├C───├C───├C───├C───├C───├C───├C───├C────────────────│────│────│────│────│────│────│────│─────────│────│────│────│────│────│────│────│─────────────────├C───├C───├C───├C───│────│───────├C──────├C───────╭C──╭C───├U1──├U0──├U1──├U0──├U1──├U0──├U1──├U0──│───╰X──│────────╰X─────├U0──├U1──├U0──├U1──├U0──├U1──├U0──├U1──╭C───────╭C──├C───├C───├C───├C───├C───├C───├C───├C────────────────│────│────│────│────│────│────│────│─────────│────│────│────│────│────│────│────│─────────────────├C───├C───├C───├C───│────│───────├C──────├C───────╭C──╭C───├U1──├U0──├U1──├U0──├U1──├U0──├U1──├U0──│───╰X──│────────╰X─────├U0──├U1──├U0──├U1──├U0──├U1──├U0──├U1──╭C───────╭C──├C───├C───├C───├C───├C───├C───├C───├C────────────────│────│────│────│────│────│────│────│─────────│────│────│────│────│────│────│────│─────────────────├C───├C───├C───├C───│────│───────├C──────├C───────╭C──╭C───├U1──├U0──├U1──├U0──├U1──├U0──├U1──├U0──│───╰X──│────────╰X─────├U0──├U1──├U0──├U1──├U0──├U1──├U0──├U1──╭C───────╭C──├C───├C───├C───├C───├C───├C───├C───├C────────────────│────│────│────│────│────│────│────│─────────│────│────│────│────│────│────│────│─────────────────├C───├C───├C───├C───│────│───────├C──────├C───────╭C──╭C───├U1──├U0──├U1──├U0──├U1──├U0──├U1──├U0──│───╰X────────────────┤ Sample[Z] \n",
      " 15: ──╰X──────╰U0──╰U1──╰U0──╰U1──╰U0──╰U1──╰U0──╰U1──├C───╭C──│───├C───├C───├C───├C───├C───├C───├C───├C────────────────│────│────│────│────│────│────│────│─────────│────│────│────│────│────│────│────│─────────────────├C───├C───├C───├C───│────│───────├C──────├C───╭C──│───├C───╰U1──╰U0──╰U1──╰U0──╰U1──╰U0──╰U1──╰U0──╰X──────╰X──────────────╰U0──╰U1──╰U0──╰U1──╰U0──╰U1──╰U0──╰U1──├C───╭C──│───├C───├C───├C───├C───├C───├C───├C───├C────────────────│────│────│────│────│────│────│────│─────────│────│────│────│────│────│────│────│─────────────────├C───├C───├C───├C───│────│───────├C──────├C───╭C──│───├C───╰U1──╰U0──╰U1──╰U0──╰U1──╰U0──╰U1──╰U0──╰X──────╰X──────────────╰U0──╰U1──╰U0──╰U1──╰U0──╰U1──╰U0──╰U1──├C───╭C──│───├C───├C───├C───├C───├C───├C───├C───├C────────────────│────│────│────│────│────│────│────│─────────│────│────│────│────│────│────│────│─────────────────├C───├C───├C───├C───│────│───────├C──────├C───╭C──│───├C───╰U1──╰U0──╰U1──╰U0──╰U1──╰U0──╰U1──╰U0──╰X──────╰X──────────────╰U0──╰U1──╰U0──╰U1──╰U0──╰U1──╰U0──╰U1──├C───╭C──│───├C───├C───├C───├C───├C───├C───├C───├C────────────────│────│────│────│────│────│────│────│─────────│────│────│────│────│────│────│────│─────────────────├C───├C───├C───├C───│────│───────├C──────├C───╭C──│───├C───╰U1──╰U0──╰U1──╰U0──╰U1──╰U0──╰U1──╰U0──╰X──────╰X──────────────╰U0──╰U1──╰U0──╰U1──╰U0──╰U1──╰U0──╰U1──├C───╭C──│───├C───├C───├C───├C───├C───├C───├C───├C────────────────│────│────│────│────│────│────│────│─────────│────│────│────│────│────│────│────│─────────────────├C───├C───├C───├C───│────│───────├C──────├C───╭C──│───├C───╰U1──╰U0──╰U1──╰U0──╰U1──╰U0──╰U1──╰U0──╰X────────────────────┤ Sample[Z] \n",
      " 16: ──────────────────────────────────────────────────╰U2──│───│───├C───├C───├C───├C───├C───├C───├C───├C────────────────│────│────│────│────│────│────│────│─────────│────│────│────│────│────│────│────│─────────────────├C───├C───├C───├C───│────│───────├C──────├C───│───│───╰U2──────────────────────────────────────────────────────────────────────────────────────────────────────────╰U2──│───│───├C───├C───├C───├C───├C───├C───├C───├C────────────────│────│────│────│────│────│────│────│─────────│────│────│────│────│────│────│────│─────────────────├C───├C───├C───├C───│────│───────├C──────├C───│───│───╰U2──────────────────────────────────────────────────────────────────────────────────────────────────────────╰U2──│───│───├C───├C───├C───├C───├C───├C───├C───├C────────────────│────│────│────│────│────│────│────│─────────│────│────│────│────│────│────│────│─────────────────├C───├C───├C───├C───│────│───────├C──────├C───│───│───╰U2──────────────────────────────────────────────────────────────────────────────────────────────────────────╰U2──│───│───├C───├C───├C───├C───├C───├C───├C───├C────────────────│────│────│────│────│────│────│────│─────────│────│────│────│────│────│────│────│─────────────────├C───├C───├C───├C───│────│───────├C──────├C───│───│───╰U2──────────────────────────────────────────────────────────────────────────────────────────────────────────╰U2──│───│───├C───├C───├C───├C───├C───├C───├C───├C────────────────│────│────│────│────│────│────│────│─────────│────│────│────│────│────│────│────│─────────────────├C───├C───├C───├C───│────│───────├C──────├C───│───│───╰U2────────────────────────────────────────────────────────────────┤ Sample[Z] \n",
      " 17: ───────────────────────────────────────────────────────│───╰X──├U0──├U1──├U0──├U1──├U0──├U1──├U0──├U1──╭C───────╭C──├C───├C───├C───├C───├C───├C───├C───├C────────├C───├C───├C───├C───├C───├C───├C───├C───────╭C──╭C───├U1──├U0──├U1──├U0──├C───├C──────├U1─────├U0──│───╰X────────────────────────────────────────────────────────────────────────────────────────────────────────────────────│───╰X──├U0──├U1──├U0──├U1──├U0──├U1──├U0──├U1──╭C───────╭C──├C───├C───├C───├C───├C───├C───├C───├C────────├C───├C───├C───├C───├C───├C───├C───├C───────╭C──╭C───├U1──├U0──├U1──├U0──├C───├C──────├U1─────├U0──│───╰X────────────────────────────────────────────────────────────────────────────────────────────────────────────────────│───╰X──├U0──├U1──├U0──├U1──├U0──├U1──├U0──├U1──╭C───────╭C──├C───├C───├C───├C───├C───├C───├C───├C────────├C───├C───├C───├C───├C───├C───├C───├C───────╭C──╭C───├U1──├U0──├U1──├U0──├C───├C──────├U1─────├U0──│───╰X────────────────────────────────────────────────────────────────────────────────────────────────────────────────────│───╰X──├U0──├U1──├U0──├U1──├U0──├U1──├U0──├U1──╭C───────╭C──├C───├C───├C───├C───├C───├C───├C───├C────────├C───├C───├C───├C───├C───├C───├C───├C───────╭C──╭C───├U1──├U0──├U1──├U0──├C───├C──────├U1─────├U0──│───╰X────────────────────────────────────────────────────────────────────────────────────────────────────────────────────│───╰X──├U0──├U1──├U0──├U1──├U0──├U1──├U0──├U1──╭C───────╭C──├C───├C───├C───├C───├C───├C───├C───├C────────├C───├C───├C───├C───├C───├C───├C───├C───────╭C──╭C───├U1──├U0──├U1──├U0──├C───├C──────├U1─────├U0──│───╰X─────────────────────────────────────────────────────────────────────┤ Sample[Z] \n",
      " 18: ───────────────────────────────────────────────────────╰X──────╰U0──╰U1──╰U0──╰U1──╰U0──╰U1──╰U0──╰U1──├C───╭C──│───├C───├C───├C───├C───├C───├C───├C───├C────────├C───├C───├C───├C───├C───├C───├C───├C───╭C──│───├C───╰U1──╰U0──╰U1──╰U0──├C───├C──────╰U1─────╰U0──╰X────────────────────────────────────────────────────────────────────────────────────────────────────────────────────────╰X──────╰U0──╰U1──╰U0──╰U1──╰U0──╰U1──╰U0──╰U1──├C───╭C──│───├C───├C───├C───├C───├C───├C───├C───├C────────├C───├C───├C───├C───├C───├C───├C───├C───╭C──│───├C───╰U1──╰U0──╰U1──╰U0──├C───├C──────╰U1─────╰U0──╰X────────────────────────────────────────────────────────────────────────────────────────────────────────────────────────╰X──────╰U0──╰U1──╰U0──╰U1──╰U0──╰U1──╰U0──╰U1──├C───╭C──│───├C───├C───├C───├C───├C───├C───├C───├C────────├C───├C───├C───├C───├C───├C───├C───├C───╭C──│───├C───╰U1──╰U0──╰U1──╰U0──├C───├C──────╰U1─────╰U0──╰X────────────────────────────────────────────────────────────────────────────────────────────────────────────────────────╰X──────╰U0──╰U1──╰U0──╰U1──╰U0──╰U1──╰U0──╰U1──├C───╭C──│───├C───├C───├C───├C───├C───├C───├C───├C────────├C───├C───├C───├C───├C───├C───├C───├C───╭C──│───├C───╰U1──╰U0──╰U1──╰U0──├C───├C──────╰U1─────╰U0──╰X────────────────────────────────────────────────────────────────────────────────────────────────────────────────────────╰X──────╰U0──╰U1──╰U0──╰U1──╰U0──╰U1──╰U0──╰U1──├C───╭C──│───├C───├C───├C───├C───├C───├C───├C───├C────────├C───├C───├C───├C───├C───├C───├C───├C───╭C──│───├C───╰U1──╰U0──╰U1──╰U0──├C───├C──────╰U1─────╰U0──╰X─────────────────────────────────────────────────────────────────────────┤ Sample[Z] \n",
      " 19: ───────────────────────────────────────────────────────────────────────────────────────────────────────╰U2──│───│───├C───├C───├C───├C───├C───├C───├C───├C────────├C───├C───├C───├C───├C───├C───├C───├C───│───│───╰U2──────────────────────├C───├C─────────────────────────────────────────────────────────────────────────────────────────────────────────────────────────────────────────────────────────────────────────────────────────────╰U2──│───│───├C───├C───├C───├C───├C───├C───├C───├C────────├C───├C───├C───├C───├C───├C───├C───├C───│───│───╰U2──────────────────────├C───├C─────────────────────────────────────────────────────────────────────────────────────────────────────────────────────────────────────────────────────────────────────────────────────────────╰U2──│───│───├C───├C───├C───├C───├C───├C───├C───├C────────├C───├C───├C───├C───├C───├C───├C───├C───│───│───╰U2──────────────────────├C───├C─────────────────────────────────────────────────────────────────────────────────────────────────────────────────────────────────────────────────────────────────────────────────────────────╰U2──│───│───├C───├C───├C───├C───├C───├C───├C───├C────────├C───├C───├C───├C───├C───├C───├C───├C───│───│───╰U2──────────────────────├C───├C─────────────────────────────────────────────────────────────────────────────────────────────────────────────────────────────────────────────────────────────────────────────────────────────╰U2──│───│───├C───├C───├C───├C───├C───├C───├C───├C────────├C───├C───├C───├C───├C───├C───├C───├C───│───│───╰U2──────────────────────├C───├C──────────────────────────────────────────────────────────────────────────────────────────────┤ Sample[Z] \n",
      " 20: ────────────────────────────────────────────────────────────────────────────────────────────────────────────│───╰X──├U0──├U1──├U0──├U1──├U0──├U1──├U0──├U1──╭C───├U1──├U0──├U1──├U0──├U1──├U0──├U1──├U0──│───╰X───────────────────────────├U1──├U0─────────────────────────────────────────────────────────────────────────────────────────────────────────────────────────────────────────────────────────────────────────────────────────────────│───╰X──├U0──├U1──├U0──├U1──├U0──├U1──├U0──├U1──╭C───├U1──├U0──├U1──├U0──├U1──├U0──├U1──├U0──│───╰X───────────────────────────├U1──├U0─────────────────────────────────────────────────────────────────────────────────────────────────────────────────────────────────────────────────────────────────────────────────────────────────│───╰X──├U0──├U1──├U0──├U1──├U0──├U1──├U0──├U1──╭C───├U1──├U0──├U1──├U0──├U1──├U0──├U1──├U0──│───╰X───────────────────────────├U1──├U0─────────────────────────────────────────────────────────────────────────────────────────────────────────────────────────────────────────────────────────────────────────────────────────────────│───╰X──├U0──├U1──├U0──├U1──├U0──├U1──├U0──├U1──╭C───├U1──├U0──├U1──├U0──├U1──├U0──├U1──├U0──│───╰X───────────────────────────├U1──├U0─────────────────────────────────────────────────────────────────────────────────────────────────────────────────────────────────────────────────────────────────────────────────────────────────│───╰X──├U0──├U1──├U0──├U1──├U0──├U1──├U0──├U1──╭C───├U1──├U0──├U1──├U0──├U1──├U0──├U1──├U0──│───╰X───────────────────────────├U1──├U0─────────────────────────────────────────────────────────────────────────────────────────────┤ Sample[Z] \n",
      " 21: ────────────────────────────────────────────────────────────────────────────────────────────────────────────╰X──────╰U0──╰U1──╰U0──╰U1──╰U0──╰U1──╰U0──╰U1──├C───╰U1──╰U0──╰U1──╰U0──╰U1──╰U0──╰U1──╰U0──╰X───────────────────────────────╰U1──╰U0─────────────────────────────────────────────────────────────────────────────────────────────────────────────────────────────────────────────────────────────────────────────────────────────────╰X──────╰U0──╰U1──╰U0──╰U1──╰U0──╰U1──╰U0──╰U1──├C───╰U1──╰U0──╰U1──╰U0──╰U1──╰U0──╰U1──╰U0──╰X───────────────────────────────╰U1──╰U0─────────────────────────────────────────────────────────────────────────────────────────────────────────────────────────────────────────────────────────────────────────────────────────────────╰X──────╰U0──╰U1──╰U0──╰U1──╰U0──╰U1──╰U0──╰U1──├C───╰U1──╰U0──╰U1──╰U0──╰U1──╰U0──╰U1──╰U0──╰X───────────────────────────────╰U1──╰U0─────────────────────────────────────────────────────────────────────────────────────────────────────────────────────────────────────────────────────────────────────────────────────────────────╰X──────╰U0──╰U1──╰U0──╰U1──╰U0──╰U1──╰U0──╰U1──├C───╰U1──╰U0──╰U1──╰U0──╰U1──╰U0──╰U1──╰U0──╰X───────────────────────────────╰U1──╰U0─────────────────────────────────────────────────────────────────────────────────────────────────────────────────────────────────────────────────────────────────────────────────────────────────╰X──────╰U0──╰U1──╰U0──╰U1──╰U0──╰U1──╰U0──╰U1──├C───╰U1──╰U0──╰U1──╰U0──╰U1──╰U0──╰U1──╰U0──╰X───────────────────────────────╰U1──╰U0─────────────────────────────────────────────────────────────────────────────────────────────┤ Sample[Z] \n",
      " 22: ───H────────────────────────────────────────────────────────────────────────────────────────────────────────────────────────────────────────────────────────╰U2────────────────────────────────────────────────────────────────────────────────────────────────────────────────────────────────────────────────────────────────────────────────────────────────────────────────────────────────────────────────────────────────────────────────────────────────────────────────────────────────────╰U2────────────────────────────────────────────────────────────────────────────────────────────────────────────────────────────────────────────────────────────────────────────────────────────────────────────────────────────────────────────────────────────────────────────────────────────────────────────────────────────────────╰U2────────────────────────────────────────────────────────────────────────────────────────────────────────────────────────────────────────────────────────────────────────────────────────────────────────────────────────────────────────────────────────────────────────────────────────────────────────────────────────────────────╰U2────────────────────────────────────────────────────────────────────────────────────────────────────────────────────────────────────────────────────────────────────────────────────────────────────────────────────────────────────────────────────────────────────────────────────────────────────────────────────────────────────╰U2────────────────────────────────────────────────────────────────────────────────────────────────────────────────────────────────────────────────────────────────────────────────┤ Sample[Z] \n",
      "U0 =\n",
      "[[0 0 0 1]\n",
      " [1 0 0 0]\n",
      " [0 1 0 0]\n",
      " [0 0 1 0]]\n",
      "U1 =\n",
      "[[0 1 0 0]\n",
      " [0 0 1 0]\n",
      " [0 0 0 1]\n",
      " [1 0 0 0]]\n",
      "U2 =\n",
      "[[0 1]\n",
      " [1 0]]\n",
      "U3 =\n",
      "[[ 1  0]\n",
      " [ 0 -1]]\n",
      "\n"
     ]
    }
   ],
   "source": [
    "drawer = qml.draw(circuit3)\n",
    "print(drawer())"
   ]
  },
  {
   "cell_type": "code",
   "execution_count": 84,
   "id": "e69e4909-a304-47ac-bac3-541c5db5e156",
   "metadata": {},
   "outputs": [],
   "source": [
    "def transform_function(circuit_output):\n",
    "    sortLoc = np.argsort(-1*circuit_output)\n",
    "    sortLoc = np.expand_dims(sortLoc, axis = 0)\n",
    "    sortVal = np.abs(np.sort(-1*circuit_output))\n",
    "    sortVal = np.expand_dims(sortVal, axis = 0)\n",
    "    Loc_Val_matrix = np.concatenate((sortLoc,sortVal),axis=0)\n",
    "    print(f'The Quantum State Probability for greatest to least:\\n')\n",
    "    for i in range(np.shape(Loc_Val_matrix)[1]):\n",
    "        if len(bin(int(Loc_Val_matrix[0,i].item()))[2:]) < 2:\n",
    "            num_of_zero = 2 - len(bin(int(Loc_Val_matrix[0,i].item()))[2:])\n",
    "            string = bin(int(Loc_Val_matrix[0,i].item()))[2:]\n",
    "            for j in range(num_of_zero):\n",
    "                string = '0' + string \n",
    "            print(f'probability of {string} is {Loc_Val_matrix[1,i].item()}')\n",
    "        else:\n",
    "            print(f'probability of {bin(int(Loc_Val_matrix[0,i].item()))[2:]} is {Loc_Val_matrix[1,i].item()}')"
   ]
  },
  {
   "cell_type": "code",
   "execution_count": null,
   "id": "4a8cdd59-e6a3-47b2-bb0c-6f10ae91521d",
   "metadata": {},
   "outputs": [],
   "source": []
  },
  {
   "cell_type": "code",
   "execution_count": 10,
   "id": "46bb65fc-a508-4a6a-9720-bff886d5aebd",
   "metadata": {},
   "outputs": [],
   "source": [
    "dev4 = qml.device('default.qubit', wires = 2)\n",
    "\n",
    "@qml.qnode(dev4)\n",
    "def circuit4():\n",
    "    qml.Hadamard(0)\n",
    "    return qml.probs(wires=[0, 1])\n"
   ]
  },
  {
   "cell_type": "code",
   "execution_count": 28,
   "id": "e0abab4c-b2fa-40a6-8c76-9be8c00ee949",
   "metadata": {},
   "outputs": [],
   "source": [
    "circuit_output = circuit4()"
   ]
  },
  {
   "cell_type": "code",
   "execution_count": 33,
   "id": "eff30876-6cc3-448f-9bfb-e4dfd66c28c9",
   "metadata": {},
   "outputs": [
    {
     "data": {
      "text/plain": [
       "tensor([0.5, 0. , 0.5, 0. ], requires_grad=True)"
      ]
     },
     "execution_count": 33,
     "metadata": {},
     "output_type": "execute_result"
    }
   ],
   "source": [
    "circuit_output"
   ]
  },
  {
   "cell_type": "code",
   "execution_count": 34,
   "id": "ca179146-0230-4154-b434-bc7c1e7a5a06",
   "metadata": {},
   "outputs": [],
   "source": [
    "sortLoc = np.argsort(-1*circuit_output)\n",
    "sortVal = np.abs(np.sort(-1*circuit_output))"
   ]
  },
  {
   "cell_type": "code",
   "execution_count": 42,
   "id": "44d57178-5115-47d9-bcd3-cd348b0eb993",
   "metadata": {},
   "outputs": [
    {
     "data": {
      "text/plain": [
       "tensor([[0, 2, 1, 3]], requires_grad=True)"
      ]
     },
     "execution_count": 42,
     "metadata": {},
     "output_type": "execute_result"
    }
   ],
   "source": [
    "sortLoc = np.expand_dims(sortLoc, axis = 0)\n",
    "sortLoc "
   ]
  },
  {
   "cell_type": "code",
   "execution_count": 43,
   "id": "32397400-298a-461b-8bff-6f8f52eb0eed",
   "metadata": {},
   "outputs": [
    {
     "data": {
      "text/plain": [
       "tensor([[0.5, 0.5, 0. , 0. ]], requires_grad=True)"
      ]
     },
     "execution_count": 43,
     "metadata": {},
     "output_type": "execute_result"
    }
   ],
   "source": [
    "sortVal = np.expand_dims(sortVal, axis = 0)\n",
    "sortVal "
   ]
  },
  {
   "cell_type": "code",
   "execution_count": 46,
   "id": "f2f7f2df-525c-4b39-a51f-1c19d5ed3e98",
   "metadata": {},
   "outputs": [
    {
     "data": {
      "text/plain": [
       "'10'"
      ]
     },
     "execution_count": 46,
     "metadata": {},
     "output_type": "execute_result"
    }
   ],
   "source": [
    "bin(sortLoc[0,1])[2:]"
   ]
  },
  {
   "cell_type": "code",
   "execution_count": 59,
   "id": "aa7e762e-1b4b-4b76-859f-f3eb4b16799d",
   "metadata": {},
   "outputs": [
    {
     "data": {
      "text/plain": [
       "'10'"
      ]
     },
     "execution_count": 59,
     "metadata": {},
     "output_type": "execute_result"
    }
   ],
   "source": [
    "Loc_Val_matrix = np.concatenate((sortLoc,sortVal),axis=0)\n",
    "bin(int(Loc_Val_matrix[0,1].item()))[2:]"
   ]
  },
  {
   "cell_type": "code",
   "execution_count": 83,
   "id": "4f21491c-29bc-437e-b3b7-424df4990a14",
   "metadata": {},
   "outputs": [
    {
     "name": "stdout",
     "output_type": "stream",
     "text": [
      "The Quantum State Probability for greatest to least:\n",
      "\n",
      "probability of 00 is 0.4999999999999999\n",
      "probability of 10 is 0.4999999999999999\n",
      "probability of 01 is 0.0\n",
      "probability of 11 is 0.0\n"
     ]
    }
   ],
   "source": [
    "print(f'The Quantum State Probability for greatest to least:\\n')\n",
    "for i in range(np.shape(Loc_Val_matrix)[1]):\n",
    "    if len(bin(int(Loc_Val_matrix[0,i].item()))[2:]) < 2:\n",
    "        num_of_zero = 2 - len(bin(int(Loc_Val_matrix[0,i].item()))[2:])\n",
    "        string = bin(int(Loc_Val_matrix[0,i].item()))[2:]\n",
    "        for j in range(num_of_zero):\n",
    "            string = '0' + string \n",
    "        print(f'probability of {string} is {Loc_Val_matrix[1,i].item()}')\n",
    "    else:\n",
    "        print(f'probability of {bin(int(Loc_Val_matrix[0,i].item()))[2:]} is {Loc_Val_matrix[1,i].item()}')"
   ]
  },
  {
   "cell_type": "code",
   "execution_count": 60,
   "id": "3f46e277-cade-4804-8f78-cd25a82b35e4",
   "metadata": {},
   "outputs": [
    {
     "name": "stdout",
     "output_type": "stream",
     "text": [
      "hello world\n"
     ]
    }
   ],
   "source": [
    "print(f'hello world')"
   ]
  },
  {
   "cell_type": "code",
   "execution_count": 62,
   "id": "a5912510-6e32-44d1-973c-c617c63ae9ea",
   "metadata": {},
   "outputs": [
    {
     "name": "stdout",
     "output_type": "stream",
     "text": [
      "The Quantum State Probability for greatest to least:\n",
      "\n",
      "dsijfj\n"
     ]
    }
   ],
   "source": [
    "print(f'The Quantum State Probability for greatest to least:\\n')\n",
    "print(f'dsijfj')"
   ]
  },
  {
   "cell_type": "code",
   "execution_count": 71,
   "id": "bdfc81a6-5da5-4da2-8bdf-a35cd4d5375a",
   "metadata": {},
   "outputs": [
    {
     "name": "stdout",
     "output_type": "stream",
     "text": [
      "probability of 10 is 0.4999999999999999\n"
     ]
    }
   ],
   "source": [
    "print(f'probability of {bin(int(Loc_Val_matrix[0,1].item()))[2:]} is {Loc_Val_matrix[1,1].item()}')"
   ]
  },
  {
   "cell_type": "code",
   "execution_count": 68,
   "id": "ff3fe537-84c4-4f54-85c9-c73b4edc0a2f",
   "metadata": {},
   "outputs": [
    {
     "data": {
      "text/plain": [
       "0.4999999999999999"
      ]
     },
     "execution_count": 68,
     "metadata": {},
     "output_type": "execute_result"
    }
   ],
   "source": [
    "Loc_Val_matrix[1,1].item()"
   ]
  },
  {
   "cell_type": "code",
   "execution_count": 75,
   "id": "9e40d232-0e6e-456d-baa9-df584bb7e743",
   "metadata": {},
   "outputs": [
    {
     "data": {
      "text/plain": [
       "2"
      ]
     },
     "execution_count": 75,
     "metadata": {},
     "output_type": "execute_result"
    }
   ],
   "source": [
    "len(bin(int(Loc_Val_matrix[0,1].item()))[2:])"
   ]
  },
  {
   "cell_type": "code",
   "execution_count": 76,
   "id": "0e050ae6-d5f1-44fa-8fbb-a544979eef9f",
   "metadata": {},
   "outputs": [
    {
     "data": {
      "text/plain": [
       "4"
      ]
     },
     "execution_count": 76,
     "metadata": {},
     "output_type": "execute_result"
    }
   ],
   "source": [
    "np.shape(Loc_Val_matrix)[1]"
   ]
  },
  {
   "cell_type": "code",
   "execution_count": 77,
   "id": "a58051c9-3c38-4114-a722-6a551592e12f",
   "metadata": {},
   "outputs": [
    {
     "ename": "NameError",
     "evalue": "name 'wires' is not defined",
     "output_type": "error",
     "traceback": [
      "\u001b[0;31m---------------------------------------------------------------------------\u001b[0m",
      "\u001b[0;31mNameError\u001b[0m                                 Traceback (most recent call last)",
      "\u001b[0;32m<ipython-input-77-d9db32cab4d1>\u001b[0m in \u001b[0;36m<module>\u001b[0;34m\u001b[0m\n\u001b[0;32m----> 1\u001b[0;31m \u001b[0mwires\u001b[0m\u001b[0;34m\u001b[0m\u001b[0;34m\u001b[0m\u001b[0m\n\u001b[0m",
      "\u001b[0;31mNameError\u001b[0m: name 'wires' is not defined"
     ]
    }
   ],
   "source": [
    "wires"
   ]
  },
  {
   "cell_type": "code",
   "execution_count": 78,
   "id": "560a23c6-3581-4ccc-8f96-72c1be21f345",
   "metadata": {},
   "outputs": [
    {
     "data": {
      "text/plain": [
       "'0'"
      ]
     },
     "execution_count": 78,
     "metadata": {},
     "output_type": "execute_result"
    }
   ],
   "source": [
    "string = '0'\n",
    "string"
   ]
  },
  {
   "cell_type": "code",
   "execution_count": 79,
   "id": "aee6aad2-2246-40a7-bac9-6cca2703b06a",
   "metadata": {},
   "outputs": [
    {
     "data": {
      "text/plain": [
       "'00'"
      ]
     },
     "execution_count": 79,
     "metadata": {},
     "output_type": "execute_result"
    }
   ],
   "source": [
    "string + '0'"
   ]
  },
  {
   "cell_type": "code",
   "execution_count": null,
   "id": "c79f87c2-e372-43cf-b614-f65db4dd4e96",
   "metadata": {},
   "outputs": [],
   "source": [
    "def transform_function(circuit_output):\n",
    "    sortLoc = np.argsort(-1*circuit_output)\n",
    "    sortLoc = np.expand_dims(sortLoc, axis = 0)\n",
    "    sortVal = np.abs(np.sort(-1*circuit_output))\n",
    "    sortVal = np.expand_dims(sortVal, axis = 0)\n",
    "    Loc_Val_matrix = np.concatenate((sortLoc,sortVal),axis=0)\n",
    "    print(f'The Quantum State Probability for greatest to least:\\n')\n",
    "    for i in range(np.shape(Loc_Val_matrix)[1]):\n",
    "        if len(bin(int(Loc_Val_matrix[0,i].item()))[2:]) < 2:\n",
    "            num_of_zero = 2 - len(bin(int(Loc_Val_matrix[0,i].item()))[2:])\n",
    "            string = bin(int(Loc_Val_matrix[0,i].item()))[2:]\n",
    "            for j in range(num_of_zero):\n",
    "                string = '0' + string \n",
    "            print(f'probability of {string} is {Loc_Val_matrix[1,i].item()}')\n",
    "        else:\n",
    "            print(f'probability of {bin(int(Loc_Val_matrix[0,i].item()))[2:]} is {Loc_Val_matrix[1,i].item()}')"
   ]
  },
  {
   "cell_type": "code",
   "execution_count": 8,
   "id": "2ae09446-5c33-4541-a4a9-97849998fb8c",
   "metadata": {},
   "outputs": [],
   "source": [
    "B = np.ones(100)"
   ]
  },
  {
   "cell_type": "code",
   "execution_count": null,
   "id": "521d136f-95dd-4714-98fc-6602d0dca296",
   "metadata": {},
   "outputs": [],
   "source": [
    "np.where()"
   ]
  }
 ],
 "metadata": {
  "kernelspec": {
   "display_name": "Python 3",
   "language": "python",
   "name": "python3"
  },
  "language_info": {
   "codemirror_mode": {
    "name": "ipython",
    "version": 3
   },
   "file_extension": ".py",
   "mimetype": "text/x-python",
   "name": "python",
   "nbconvert_exporter": "python",
   "pygments_lexer": "ipython3",
   "version": "3.8.8"
  }
 },
 "nbformat": 4,
 "nbformat_minor": 5
}
